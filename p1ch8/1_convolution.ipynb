{
 "cells": [
  {
   "cell_type": "code",
   "execution_count": 1,
   "metadata": {},
   "outputs": [
    {
     "data": {
      "text/plain": [
       "<torch._C.Generator at 0x7f1852d2ad70>"
      ]
     },
     "execution_count": 1,
     "metadata": {},
     "output_type": "execute_result"
    }
   ],
   "source": [
    "%matplotlib inline\n",
    "from matplotlib import pyplot as plt\n",
    "import numpy as np\n",
    "import collections\n",
    "\n",
    "import torch\n",
    "import torch.nn as nn\n",
    "import torch.nn.functional as F\n",
    "import torch.optim as optim\n",
    "\n",
    "torch.set_printoptions(edgeitems=2)\n",
    "torch.manual_seed(123)"
   ]
  },
  {
   "cell_type": "code",
   "execution_count": 2,
   "metadata": {},
   "outputs": [],
   "source": [
    "class_names = [\n",
    "    \"airplane\",\n",
    "    \"automobile\",\n",
    "    \"bird\",\n",
    "    \"cat\",\n",
    "    \"deer\",\n",
    "    \"dog\",\n",
    "    \"frog\",\n",
    "    \"horse\",\n",
    "    \"ship\",\n",
    "    \"truck\",\n",
    "]"
   ]
  },
  {
   "cell_type": "code",
   "execution_count": 3,
   "metadata": {},
   "outputs": [
    {
     "name": "stdout",
     "output_type": "stream",
     "text": [
      "Files already downloaded and verified\n"
     ]
    }
   ],
   "source": [
    "from torchvision import datasets, transforms\n",
    "\n",
    "data_path = \"../data-unversioned/p1ch7/\"\n",
    "cifar10 = datasets.CIFAR10(\n",
    "    data_path,\n",
    "    train=True,\n",
    "    download=True,\n",
    "    transform=transforms.Compose(\n",
    "        [\n",
    "            transforms.ToTensor(),\n",
    "            transforms.Normalize((0.4915, 0.4823, 0.4468), (0.2470, 0.2435, 0.2616)),\n",
    "        ]\n",
    "    ),\n",
    ")"
   ]
  },
  {
   "cell_type": "code",
   "execution_count": 4,
   "metadata": {},
   "outputs": [
    {
     "name": "stdout",
     "output_type": "stream",
     "text": [
      "Files already downloaded and verified\n"
     ]
    }
   ],
   "source": [
    "cifar10_val = datasets.CIFAR10(\n",
    "    data_path,\n",
    "    train=False,\n",
    "    download=True,\n",
    "    transform=transforms.Compose(\n",
    "        [\n",
    "            transforms.ToTensor(),\n",
    "            transforms.Normalize((0.4915, 0.4823, 0.4468), (0.2470, 0.2435, 0.2616)),\n",
    "        ]\n",
    "    ),\n",
    ")"
   ]
  },
  {
   "cell_type": "code",
   "execution_count": 5,
   "metadata": {},
   "outputs": [],
   "source": [
    "label_map = {0: 0, 2: 1}\n",
    "class_names = [\"airplane\", \"bird\"]\n",
    "cifar2 = [(img, label_map[label]) for img, label in cifar10 if label in [0, 2]]\n",
    "cifar2_val = [(img, label_map[label]) for img, label in cifar10_val if label in [0, 2]]"
   ]
  },
  {
   "cell_type": "code",
   "execution_count": 6,
   "metadata": {},
   "outputs": [],
   "source": [
    "connected_model = nn.Sequential(\n",
    "    nn.Linear(3072, 1024),\n",
    "    nn.Tanh(),\n",
    "    nn.Linear(1024, 512),\n",
    "    nn.Tanh(),\n",
    "    nn.Linear(512, 128),\n",
    "    nn.Tanh(),\n",
    "    nn.Linear(128, 2),\n",
    ")"
   ]
  },
  {
   "cell_type": "code",
   "execution_count": 7,
   "metadata": {},
   "outputs": [
    {
     "data": {
      "text/plain": [
       "(3737474, [3145728, 1024, 524288, 512, 65536, 128, 256, 2])"
      ]
     },
     "execution_count": 7,
     "metadata": {},
     "output_type": "execute_result"
    }
   ],
   "source": [
    "numel_list = [\n",
    "    p.numel() for p in connected_model.parameters() if p.requires_grad == True\n",
    "]\n",
    "sum(numel_list), numel_list"
   ]
  },
  {
   "cell_type": "code",
   "execution_count": 8,
   "metadata": {},
   "outputs": [],
   "source": [
    "first_model = nn.Sequential(\n",
    "    nn.Linear(3072, 512), nn.Tanh(), nn.Linear(512, 2), nn.LogSoftmax(dim=1)\n",
    ")"
   ]
  },
  {
   "cell_type": "code",
   "execution_count": 9,
   "metadata": {},
   "outputs": [
    {
     "data": {
      "text/plain": [
       "(1574402, [1572864, 512, 1024, 2])"
      ]
     },
     "execution_count": 9,
     "metadata": {},
     "output_type": "execute_result"
    }
   ],
   "source": [
    "numel_list = [p.numel() for p in first_model.parameters()]\n",
    "sum(numel_list), numel_list"
   ]
  },
  {
   "cell_type": "code",
   "execution_count": 10,
   "metadata": {},
   "outputs": [
    {
     "data": {
      "text/plain": [
       "(torch.Size([1024, 3072]), torch.Size([1024]))"
      ]
     },
     "execution_count": 10,
     "metadata": {},
     "output_type": "execute_result"
    }
   ],
   "source": [
    "linear = nn.Linear(3072, 1024)\n",
    "\n",
    "linear.weight.shape, linear.bias.shape"
   ]
  },
  {
   "cell_type": "markdown",
   "metadata": {},
   "source": [
    "# Using Convolutions to classify images"
   ]
  },
  {
   "cell_type": "code",
   "execution_count": 11,
   "metadata": {},
   "outputs": [
    {
     "data": {
      "text/plain": [
       "Conv2d(3, 16, kernel_size=(4, 4), stride=(1, 1))"
      ]
     },
     "execution_count": 11,
     "metadata": {},
     "output_type": "execute_result"
    }
   ],
   "source": [
    "# Here, kernel_size=3 means that the kernel is 3x3 for a 2D convolution.\n",
    "conv = nn.Conv2d(in_channels=3, out_channels=16, kernel_size=4)  # <1>\n",
    "conv"
   ]
  },
  {
   "cell_type": "code",
   "execution_count": 12,
   "metadata": {},
   "outputs": [
    {
     "data": {
      "text/plain": [
       "(torch.Size([16, 3, 4, 4]), torch.Size([16]))"
      ]
     },
     "execution_count": 12,
     "metadata": {},
     "output_type": "execute_result"
    }
   ],
   "source": [
    "# The weight tensor is of shape (out_channels, in_channels, kernel_height, kernel_width).\n",
    "conv.weight.shape, conv.bias.shape"
   ]
  },
  {
   "cell_type": "code",
   "execution_count": 13,
   "metadata": {},
   "outputs": [
    {
     "data": {
      "text/plain": [
       "(torch.Size([1, 3, 32, 32]), torch.Size([1, 16, 29, 29]))"
      ]
     },
     "execution_count": 13,
     "metadata": {},
     "output_type": "execute_result"
    }
   ],
   "source": [
    "# We add the 0th dimension because the conv layer expects an input tensor of shape (batch_size, in_channels, height, width).\n",
    "img, _ = cifar2[0]\n",
    "output = conv(img.unsqueeze(0))\n",
    "img.unsqueeze(0).shape, output.shape"
   ]
  },
  {
   "cell_type": "code",
   "execution_count": 14,
   "metadata": {},
   "outputs": [
    {
     "data": {
      "text/plain": [
       "(torch.Size([3, 32, 32]), torch.Size([1, 16, 29, 29]))"
      ]
     },
     "execution_count": 14,
     "metadata": {},
     "output_type": "execute_result"
    }
   ],
   "source": [
    "img.shape, output.shape"
   ]
  },
  {
   "cell_type": "code",
   "execution_count": 15,
   "metadata": {},
   "outputs": [
    {
     "data": {
      "image/png": "[encoded data removed]",
      "text/plain": [
       "<Figure size 640x480 with 1 Axes>"
      ]
     },
     "metadata": {},
     "output_type": "display_data"
    }
   ],
   "source": [
    "# We visualize the input image as a grayscale image by averaging over the channels.\n",
    "plt.imshow(img.mean(0), cmap=\"gray\")\n",
    "plt.show()"
   ]
  },
  {
   "cell_type": "code",
   "execution_count": 16,
   "metadata": {},
   "outputs": [
    {
     "data": {
      "text/plain": [
       "<matplotlib.image.AxesImage at 0x7e29aa849db0>"
      ]
     },
     "execution_count": 16,
     "metadata": {},
     "output_type": "execute_result"
    },
    {
     "data": {
      "image/png": "[encoded data removed]",
      "text/plain": [
       "<Figure size 640x480 with 1 Axes>"
      ]
     },
     "metadata": {},
     "output_type": "display_data"
    }
   ],
   "source": [
    "# 0th position in the batch, 10th output channel.\n",
    "plt.imshow(output[0, 10].detach(), cmap=\"gray\")"
   ]
  },
  {
   "cell_type": "code",
   "execution_count": 17,
   "metadata": {},
   "outputs": [
    {
     "data": {
      "text/plain": [
       "torch.Size([29, 29])"
      ]
     },
     "execution_count": 17,
     "metadata": {},
     "output_type": "execute_result"
    }
   ],
   "source": [
    "output[0, 10].shape"
   ]
  },
  {
   "cell_type": "code",
   "execution_count": 18,
   "metadata": {},
   "outputs": [
    {
     "data": {
      "image/png": "[encoded data removed]",
      "text/plain": [
       "<Figure size 1000x480 with 2 Axes>"
      ]
     },
     "metadata": {},
     "output_type": "display_data"
    }
   ],
   "source": [
    "plt.figure(figsize=(10, 4.8))\n",
    "\n",
    "# We print the output first and the input second to show the difference\n",
    "# in shape. If we do it the other way around, the input image will be cropped.\n",
    "\n",
    "# Here, 1, 2, 1 means 1 row, 2 columns, 1st position.\n",
    "ax1 = plt.subplot(1, 2, 1)\n",
    "plt.title(\"output\")\n",
    "plt.imshow(output[0, 11].detach(), cmap=\"gray\")\n",
    "\n",
    "# Here, 1, 2, 2 means 1 row, 2 columns, 2nd position.\n",
    "# We share the x and y axes with the first subplot.\n",
    "plt.subplot(1, 2, 2, sharex=ax1, sharey=ax1)\n",
    "plt.title(\"input\")\n",
    "plt.imshow(img.mean(0), cmap=\"gray\")\n",
    "\n",
    "plt.savefig(\"Ch8_F2_PyTorch.png\")\n",
    "plt.show()"
   ]
  },
  {
   "cell_type": "code",
   "execution_count": 19,
   "metadata": {},
   "outputs": [
    {
     "data": {
      "text/plain": [
       "(torch.Size([1, 3, 32, 32]), torch.Size([1, 1, 32, 32]))"
      ]
     },
     "execution_count": 19,
     "metadata": {},
     "output_type": "execute_result"
    }
   ],
   "source": [
    "# We can use the padding parameter to add padding when the kernel size is odd.\n",
    "# For padding even sized kernels we can use torch.nn.functional.pad.\n",
    "conv = nn.Conv2d(in_channels=3, out_channels=1, kernel_size=3, padding=1)\n",
    "output = conv(img.unsqueeze(0))\n",
    "img.unsqueeze(0).shape, output.shape"
   ]
  },
  {
   "cell_type": "code",
   "execution_count": 20,
   "metadata": {},
   "outputs": [
    {
     "data": {
      "text/plain": [
       "(torch.Size([3, 32, 32]),\n",
       " torch.Size([3, 32, 33]),\n",
       " torch.Size([3, 32, 33]),\n",
       " torch.Size([3, 33, 32]),\n",
       " torch.Size([3, 33, 32]))"
      ]
     },
     "execution_count": 20,
     "metadata": {},
     "output_type": "execute_result"
    }
   ],
   "source": [
    "from torch.nn.functional import pad\n",
    "\n",
    "# The sequence of numbers represents the padding for each side of the input tensor.)\n",
    "img.shape, pad(img, (1, 0, 0, 0)).shape, pad(img, (0, 1, 0, 0)).shape, pad(\n",
    "    img, (0, 0, 1, 0)\n",
    ").shape, pad(img, (0, 0, 0, 1)).shape"
   ]
  },
  {
   "cell_type": "code",
   "execution_count": 21,
   "metadata": {},
   "outputs": [
    {
     "data": {
      "text/plain": [
       "<matplotlib.image.AxesImage at 0x7e29aa3bdea0>"
      ]
     },
     "execution_count": 21,
     "metadata": {},
     "output_type": "execute_result"
    },
    {
     "data": {
      "image/png": "[encoded data removed]",
      "text/plain": [
       "<Figure size 1000x480 with 6 Axes>"
      ]
     },
     "metadata": {},
     "output_type": "display_data"
    }
   ],
   "source": [
    "plt.figure(figsize=(10, 4.8))\n",
    "\n",
    "ax1 = plt.subplot(2, 3, 1)\n",
    "plt.title(\"original\")\n",
    "plt.imshow(img.mean(0), cmap=\"gray\")\n",
    "\n",
    "plt.subplot(2, 3, 2, sharex=ax1, sharey=ax1)\n",
    "plt.title(\"(1, 0, 0, 0) pad\")\n",
    "plt.imshow(pad(img, (1, 0, 0, 0)).mean(0), cmap=\"gray\")\n",
    "\n",
    "plt.subplot(2, 3, 3, sharex=ax1, sharey=ax1)\n",
    "plt.title(\"(0, 1, 0, 0) pad\")\n",
    "plt.imshow(pad(img, (0, 1, 0, 0)).mean(0), cmap=\"gray\")\n",
    "\n",
    "plt.subplot(2, 3, 4, sharex=ax1, sharey=ax1)\n",
    "plt.title(\"(0, 0, 1, 0) pad\")\n",
    "plt.imshow(pad(img, (0, 0, 1, 0)).mean(0), cmap=\"gray\")\n",
    "\n",
    "plt.subplot(2, 3, 5, sharex=ax1, sharey=ax1)\n",
    "plt.title(\"(0, 0, 0, 1) pad\")\n",
    "plt.imshow(pad(img, (0, 0, 0, 1)).mean(0), cmap=\"gray\")\n",
    "\n",
    "plt.subplot(2, 3, 6, sharex=ax1, sharey=ax1)\n",
    "plt.title(\"all sides padded\")\n",
    "plt.imshow(pad(img, (1, 1, 1, 1)).mean(0), cmap=\"gray\")"
   ]
  },
  {
   "cell_type": "code",
   "execution_count": 22,
   "metadata": {},
   "outputs": [],
   "source": [
    "# We assign zeros to the bias tensor.\n",
    "with torch.no_grad():\n",
    "    conv.bias.zero_()\n",
    "\n",
    "# We assign 1/9 to each entry of the (3, 3) convolution kernel.\n",
    "# This way, each pixel will be replaced by the average of its 3x3 neighborhood.\n",
    "with torch.no_grad():\n",
    "    conv.weight.fill_(1.0 / 9.0)"
   ]
  },
  {
   "cell_type": "code",
   "execution_count": 23,
   "metadata": {},
   "outputs": [
    {
     "data": {
      "text/plain": [
       "torch.Size([1, 3, 3, 3])"
      ]
     },
     "execution_count": 23,
     "metadata": {},
     "output_type": "execute_result"
    }
   ],
   "source": [
    "# The shape of the kernel is (out_channels, in_channels, kernel_height, kernel_width).\n",
    "conv.weight.shape"
   ]
  },
  {
   "cell_type": "code",
   "execution_count": 24,
   "metadata": {},
   "outputs": [
    {
     "data": {
      "text/plain": [
       "torch.Size([1, 1, 32, 32])"
      ]
     },
     "execution_count": 24,
     "metadata": {},
     "output_type": "execute_result"
    }
   ],
   "source": [
    "output = conv(img.unsqueeze(0))\n",
    "\n",
    "# The shape of the output tensor is (batch_size, out_channels, height, width).\n",
    "output.shape"
   ]
  },
  {
   "cell_type": "code",
   "execution_count": 25,
   "metadata": {},
   "outputs": [
    {
     "data": {
      "image/png": "[encoded data removed]",
      "text/plain": [
       "<Figure size 1000x480 with 2 Axes>"
      ]
     },
     "metadata": {},
     "output_type": "display_data"
    }
   ],
   "source": [
    "plt.figure(figsize=(10, 4.8))\n",
    "\n",
    "ax1 = plt.subplot(1, 2, 1)\n",
    "plt.title(\"output\")\n",
    "# We pick the 0th position in the batch and the 0th output channel.\n",
    "plt.imshow(output[0, 0].detach(), cmap=\"gray\")\n",
    "\n",
    "plt.subplot(1, 2, 2, sharex=ax1, sharey=ax1)\n",
    "plt.imshow(img.mean(0), cmap=\"gray\")\n",
    "plt.title(\"input\")\n",
    "\n",
    "plt.savefig(\"Ch8_F4_PyTorch.png\")\n",
    "plt.show()"
   ]
  },
  {
   "cell_type": "code",
   "execution_count": 26,
   "metadata": {},
   "outputs": [],
   "source": [
    "conv = nn.Conv2d(3, 1, kernel_size=3, padding=1)\n",
    "\n",
    "with torch.no_grad():\n",
    "    # Edge detection kernel\n",
    "    conv.weight[:] = torch.tensor(\n",
    "        [[-1.0, 0.0, 1.0], [-1.0, 0.0, 1.0], [-1.0, 0.0, 1.0]]\n",
    "    )\n",
    "    conv.bias.zero_()"
   ]
  },
  {
   "cell_type": "code",
   "execution_count": 27,
   "metadata": {},
   "outputs": [
    {
     "data": {
      "image/png": "[encoded data removed]",
      "text/plain": [
       "<Figure size 1000x480 with 2 Axes>"
      ]
     },
     "metadata": {},
     "output_type": "display_data"
    }
   ],
   "source": [
    "output = conv(img.unsqueeze(0))\n",
    "plt.figure(figsize=(10, 4.8))\n",
    "ax1 = plt.subplot(1, 2, 1)\n",
    "plt.title(\"output\")\n",
    "plt.imshow(output[0, 0].detach(), cmap=\"gray\")\n",
    "plt.subplot(1, 2, 2, sharex=ax1, sharey=ax1)\n",
    "plt.imshow(img.mean(0), cmap=\"gray\")\n",
    "plt.title(\"input\")\n",
    "plt.savefig(\"Ch8_F5_PyTorch.png\")\n",
    "plt.show()"
   ]
  },
  {
   "cell_type": "code",
   "execution_count": 28,
   "metadata": {},
   "outputs": [
    {
     "data": {
      "text/plain": [
       "(torch.Size([1, 3, 32, 32]), torch.Size([1, 3, 16, 16]))"
      ]
     },
     "execution_count": 28,
     "metadata": {},
     "output_type": "execute_result"
    }
   ],
   "source": [
    "pool = nn.MaxPool2d(2)\n",
    "output = pool(img.unsqueeze(0))\n",
    "\n",
    "img.unsqueeze(0).shape, output.shape"
   ]
  },
  {
   "cell_type": "code",
   "execution_count": 29,
   "metadata": {},
   "outputs": [],
   "source": [
    "model = nn.Sequential(\n",
    "    nn.Conv2d(3, 16, kernel_size=3, padding=1),\n",
    "    nn.Tanh(),\n",
    "    nn.MaxPool2d(2),\n",
    "    nn.Conv2d(16, 8, kernel_size=3, padding=1),\n",
    "    nn.Tanh(),\n",
    "    nn.MaxPool2d(2),\n",
    "    # ...\n",
    ")"
   ]
  },
  {
   "cell_type": "code",
   "execution_count": 30,
   "metadata": {},
   "outputs": [],
   "source": [
    "model = nn.Sequential(\n",
    "    nn.Conv2d(3, 16, kernel_size=3, padding=1),\n",
    "    nn.Tanh(),\n",
    "    nn.MaxPool2d(2),\n",
    "    nn.Conv2d(16, 8, kernel_size=3, padding=1),\n",
    "    nn.Tanh(),\n",
    "    nn.MaxPool2d(2),\n",
    "    # ... <1>\n",
    "    nn.Linear(8 * 8 * 8, 32),\n",
    "    nn.Tanh(),\n",
    "    nn.Linear(32, 2),\n",
    ")"
   ]
  },
  {
   "cell_type": "code",
   "execution_count": 31,
   "metadata": {},
   "outputs": [
    {
     "ename": "RuntimeError",
     "evalue": "mat1 and mat2 shapes cannot be multiplied (64x8 and 512x32)",
     "output_type": "error",
     "traceback": [
      "\u001b[0;31m---------------------------------------------------------------------------\u001b[0m",
      "\u001b[0;31mRuntimeError\u001b[0m                              Traceback (most recent call last)",
      "Cell \u001b[0;32mIn[31], line 1\u001b[0m\n\u001b[0;32m----> 1\u001b[0m \u001b[43mmodel\u001b[49m\u001b[43m(\u001b[49m\u001b[43mimg\u001b[49m\u001b[38;5;241;43m.\u001b[39;49m\u001b[43munsqueeze\u001b[49m\u001b[43m(\u001b[49m\u001b[38;5;241;43m0\u001b[39;49m\u001b[43m)\u001b[49m\u001b[43m)\u001b[49m\n",
      "File \u001b[0;32m~/dl/.venv/lib/python3.10/site-packages/torch/nn/modules/module.py:1501\u001b[0m, in \u001b[0;36mModule._call_impl\u001b[0;34m(self, *args, **kwargs)\u001b[0m\n\u001b[1;32m   1496\u001b[0m \u001b[38;5;66;03m# If we don't have any hooks, we want to skip the rest of the logic in\u001b[39;00m\n\u001b[1;32m   1497\u001b[0m \u001b[38;5;66;03m# this function, and just call forward.\u001b[39;00m\n\u001b[1;32m   1498\u001b[0m \u001b[38;5;28;01mif\u001b[39;00m \u001b[38;5;129;01mnot\u001b[39;00m (\u001b[38;5;28mself\u001b[39m\u001b[38;5;241m.\u001b[39m_backward_hooks \u001b[38;5;129;01mor\u001b[39;00m \u001b[38;5;28mself\u001b[39m\u001b[38;5;241m.\u001b[39m_backward_pre_hooks \u001b[38;5;129;01mor\u001b[39;00m \u001b[38;5;28mself\u001b[39m\u001b[38;5;241m.\u001b[39m_forward_hooks \u001b[38;5;129;01mor\u001b[39;00m \u001b[38;5;28mself\u001b[39m\u001b[38;5;241m.\u001b[39m_forward_pre_hooks\n\u001b[1;32m   1499\u001b[0m         \u001b[38;5;129;01mor\u001b[39;00m _global_backward_pre_hooks \u001b[38;5;129;01mor\u001b[39;00m _global_backward_hooks\n\u001b[1;32m   1500\u001b[0m         \u001b[38;5;129;01mor\u001b[39;00m _global_forward_hooks \u001b[38;5;129;01mor\u001b[39;00m _global_forward_pre_hooks):\n\u001b[0;32m-> 1501\u001b[0m     \u001b[38;5;28;01mreturn\u001b[39;00m \u001b[43mforward_call\u001b[49m\u001b[43m(\u001b[49m\u001b[38;5;241;43m*\u001b[39;49m\u001b[43margs\u001b[49m\u001b[43m,\u001b[49m\u001b[43m \u001b[49m\u001b[38;5;241;43m*\u001b[39;49m\u001b[38;5;241;43m*\u001b[39;49m\u001b[43mkwargs\u001b[49m\u001b[43m)\u001b[49m\n\u001b[1;32m   1502\u001b[0m \u001b[38;5;66;03m# Do not call functions when jit is used\u001b[39;00m\n\u001b[1;32m   1503\u001b[0m full_backward_hooks, non_full_backward_hooks \u001b[38;5;241m=\u001b[39m [], []\n",
      "File \u001b[0;32m~/dl/.venv/lib/python3.10/site-packages/torch/nn/modules/container.py:217\u001b[0m, in \u001b[0;36mSequential.forward\u001b[0;34m(self, input)\u001b[0m\n\u001b[1;32m    215\u001b[0m \u001b[38;5;28;01mdef\u001b[39;00m \u001b[38;5;21mforward\u001b[39m(\u001b[38;5;28mself\u001b[39m, \u001b[38;5;28minput\u001b[39m):\n\u001b[1;32m    216\u001b[0m     \u001b[38;5;28;01mfor\u001b[39;00m module \u001b[38;5;129;01min\u001b[39;00m \u001b[38;5;28mself\u001b[39m:\n\u001b[0;32m--> 217\u001b[0m         \u001b[38;5;28minput\u001b[39m \u001b[38;5;241m=\u001b[39m \u001b[43mmodule\u001b[49m\u001b[43m(\u001b[49m\u001b[38;5;28;43minput\u001b[39;49m\u001b[43m)\u001b[49m\n\u001b[1;32m    218\u001b[0m     \u001b[38;5;28;01mreturn\u001b[39;00m \u001b[38;5;28minput\u001b[39m\n",
      "File \u001b[0;32m~/dl/.venv/lib/python3.10/site-packages/torch/nn/modules/module.py:1501\u001b[0m, in \u001b[0;36mModule._call_impl\u001b[0;34m(self, *args, **kwargs)\u001b[0m\n\u001b[1;32m   1496\u001b[0m \u001b[38;5;66;03m# If we don't have any hooks, we want to skip the rest of the logic in\u001b[39;00m\n\u001b[1;32m   1497\u001b[0m \u001b[38;5;66;03m# this function, and just call forward.\u001b[39;00m\n\u001b[1;32m   1498\u001b[0m \u001b[38;5;28;01mif\u001b[39;00m \u001b[38;5;129;01mnot\u001b[39;00m (\u001b[38;5;28mself\u001b[39m\u001b[38;5;241m.\u001b[39m_backward_hooks \u001b[38;5;129;01mor\u001b[39;00m \u001b[38;5;28mself\u001b[39m\u001b[38;5;241m.\u001b[39m_backward_pre_hooks \u001b[38;5;129;01mor\u001b[39;00m \u001b[38;5;28mself\u001b[39m\u001b[38;5;241m.\u001b[39m_forward_hooks \u001b[38;5;129;01mor\u001b[39;00m \u001b[38;5;28mself\u001b[39m\u001b[38;5;241m.\u001b[39m_forward_pre_hooks\n\u001b[1;32m   1499\u001b[0m         \u001b[38;5;129;01mor\u001b[39;00m _global_backward_pre_hooks \u001b[38;5;129;01mor\u001b[39;00m _global_backward_hooks\n\u001b[1;32m   1500\u001b[0m         \u001b[38;5;129;01mor\u001b[39;00m _global_forward_hooks \u001b[38;5;129;01mor\u001b[39;00m _global_forward_pre_hooks):\n\u001b[0;32m-> 1501\u001b[0m     \u001b[38;5;28;01mreturn\u001b[39;00m \u001b[43mforward_call\u001b[49m\u001b[43m(\u001b[49m\u001b[38;5;241;43m*\u001b[39;49m\u001b[43margs\u001b[49m\u001b[43m,\u001b[49m\u001b[43m \u001b[49m\u001b[38;5;241;43m*\u001b[39;49m\u001b[38;5;241;43m*\u001b[39;49m\u001b[43mkwargs\u001b[49m\u001b[43m)\u001b[49m\n\u001b[1;32m   1502\u001b[0m \u001b[38;5;66;03m# Do not call functions when jit is used\u001b[39;00m\n\u001b[1;32m   1503\u001b[0m full_backward_hooks, non_full_backward_hooks \u001b[38;5;241m=\u001b[39m [], []\n",
      "File \u001b[0;32m~/dl/.venv/lib/python3.10/site-packages/torch/nn/modules/linear.py:114\u001b[0m, in \u001b[0;36mLinear.forward\u001b[0;34m(self, input)\u001b[0m\n\u001b[1;32m    113\u001b[0m \u001b[38;5;28;01mdef\u001b[39;00m \u001b[38;5;21mforward\u001b[39m(\u001b[38;5;28mself\u001b[39m, \u001b[38;5;28minput\u001b[39m: Tensor) \u001b[38;5;241m-\u001b[39m\u001b[38;5;241m>\u001b[39m Tensor:\n\u001b[0;32m--> 114\u001b[0m     \u001b[38;5;28;01mreturn\u001b[39;00m \u001b[43mF\u001b[49m\u001b[38;5;241;43m.\u001b[39;49m\u001b[43mlinear\u001b[49m\u001b[43m(\u001b[49m\u001b[38;5;28;43minput\u001b[39;49m\u001b[43m,\u001b[49m\u001b[43m \u001b[49m\u001b[38;5;28;43mself\u001b[39;49m\u001b[38;5;241;43m.\u001b[39;49m\u001b[43mweight\u001b[49m\u001b[43m,\u001b[49m\u001b[43m \u001b[49m\u001b[38;5;28;43mself\u001b[39;49m\u001b[38;5;241;43m.\u001b[39;49m\u001b[43mbias\u001b[49m\u001b[43m)\u001b[49m\n",
      "\u001b[0;31mRuntimeError\u001b[0m: mat1 and mat2 shapes cannot be multiplied (64x8 and 512x32)"
     ]
    }
   ],
   "source": [
    "model(img.unsqueeze(0))"
   ]
  },
  {
   "cell_type": "code",
   "execution_count": 32,
   "metadata": {},
   "outputs": [
    {
     "data": {
      "text/plain": [
       "(18090, [432, 16, 1152, 8, 16384, 32, 64, 2])"
      ]
     },
     "execution_count": 32,
     "metadata": {},
     "output_type": "execute_result"
    }
   ],
   "source": [
    "numel_list = [p.numel() for p in model.parameters()]\n",
    "sum(numel_list), numel_list"
   ]
  },
  {
   "cell_type": "code",
   "execution_count": 33,
   "metadata": {},
   "outputs": [],
   "source": [
    "class Net(nn.Module):\n",
    "    def __init__(self):\n",
    "        super().__init__()\n",
    "        self.conv1 = nn.Conv2d(3, 16, kernel_size=3, padding=1)\n",
    "        self.act1 = nn.Tanh()\n",
    "        self.pool1 = nn.MaxPool2d(2)\n",
    "        self.conv2 = nn.Conv2d(16, 8, kernel_size=3, padding=1)\n",
    "        self.act2 = nn.Tanh()\n",
    "        self.pool2 = nn.MaxPool2d(2)\n",
    "        self.fc1 = nn.Linear(8 * 8 * 8, 32)\n",
    "        self.act3 = nn.Tanh()\n",
    "        self.fc2 = nn.Linear(32, 2)\n",
    "\n",
    "    def forward(self, x):\n",
    "        out = self.pool1(self.act1(self.conv1(x)))\n",
    "        out = self.pool2(self.act2(self.conv2(out)))\n",
    "        out = out.view(-1, 8 * 8 * 8)  # <1>\n",
    "        out = self.act3(self.fc1(out))\n",
    "        out = self.fc2(out)\n",
    "        return out"
   ]
  },
  {
   "cell_type": "code",
   "execution_count": 34,
   "metadata": {},
   "outputs": [
    {
     "data": {
      "text/plain": [
       "(18090, [432, 16, 1152, 8, 16384, 32, 64, 2])"
      ]
     },
     "execution_count": 34,
     "metadata": {},
     "output_type": "execute_result"
    }
   ],
   "source": [
    "model = Net()\n",
    "\n",
    "numel_list = [p.numel() for p in model.parameters()]\n",
    "sum(numel_list), numel_list"
   ]
  },
  {
   "cell_type": "code",
   "execution_count": 6,
   "metadata": {},
   "outputs": [],
   "source": [
    "import torch.nn.functional as F\n",
    "\n",
    "\n",
    "class Net(nn.Module):\n",
    "    def __init__(self):\n",
    "        super().__init__()\n",
    "        self.conv1 = nn.Conv2d(3, 16, kernel_size=3, padding=1)\n",
    "        self.conv2 = nn.Conv2d(16, 8, kernel_size=3, padding=1)\n",
    "        self.fc1 = nn.Linear(8 * 8 * 8, 32)\n",
    "        self.fc2 = nn.Linear(32, 2)\n",
    "\n",
    "    def forward(self, x):\n",
    "        out = F.max_pool2d(torch.tanh(self.conv1(x)), 2)\n",
    "        out = F.max_pool2d(torch.tanh(self.conv2(out)), 2)\n",
    "        out = out.view(-1, 8 * 8 * 8)\n",
    "        out = torch.tanh(self.fc1(out))\n",
    "        out = self.fc2(out)\n",
    "        return out"
   ]
  },
  {
   "cell_type": "code",
   "execution_count": 7,
   "metadata": {},
   "outputs": [
    {
     "ename": "NameError",
     "evalue": "name 'img' is not defined",
     "output_type": "error",
     "traceback": [
      "\u001b[0;31m---------------------------------------------------------------------------\u001b[0m",
      "\u001b[0;31mNameError\u001b[0m                                 Traceback (most recent call last)",
      "Cell \u001b[0;32mIn[7], line 2\u001b[0m\n\u001b[1;32m      1\u001b[0m model \u001b[38;5;241m=\u001b[39m Net()\n\u001b[0;32m----> 2\u001b[0m model(\u001b[43mimg\u001b[49m\u001b[38;5;241m.\u001b[39munsqueeze(\u001b[38;5;241m0\u001b[39m))\n",
      "\u001b[0;31mNameError\u001b[0m: name 'img' is not defined"
     ]
    }
   ],
   "source": [
    "model = Net()\n",
    "model(img.unsqueeze(0))"
   ]
  },
  {
   "cell_type": "code",
   "execution_count": 9,
   "metadata": {},
   "outputs": [],
   "source": [
    "import datetime  # <1>\n",
    "\n",
    "\n",
    "def training_loop(n_epochs, optimizer, model, loss_fn, train_loader):\n",
    "    for epoch in range(1, n_epochs + 1):  # loop over 1..n epochs\n",
    "        loss_train = 0.0\n",
    "        for imgs, labels in train_loader:  # loops over all batches\n",
    "\n",
    "            outputs = model(imgs)  # forward pass of a batch\n",
    "\n",
    "            loss = loss_fn(outputs, labels)  # compute the loss value\n",
    "\n",
    "            optimizer.zero_grad()  # clear the gradients\n",
    "\n",
    "            loss.backward()  # compute the gradients\n",
    "\n",
    "            optimizer.step()  # update the weights\n",
    "\n",
    "            # accumulate the loss value. \n",
    "            # Note that we use .item() to extract the scalar value from a tensor.\n",
    "            loss_train += loss.item()\n",
    "\n",
    "        if epoch == 1 or epoch % 10 == 0:\n",
    "            print(\n",
    "                \"{} Epoch {}, Training loss {}\".format(\n",
    "                    datetime.datetime.now(), epoch, loss_train / len(train_loader)\n",
    "                )\n",
    "            )  # get the average loss per batch"
   ]
  },
  {
   "cell_type": "code",
   "execution_count": 61,
   "metadata": {},
   "outputs": [
    {
     "name": "stdout",
     "output_type": "stream",
     "text": [
      "2025-04-06 00:19:02.289844 Epoch 1, Training loss 0.5665860762641688\n",
      "2025-04-06 00:19:10.250110 Epoch 10, Training loss 0.34121537512275063\n",
      "2025-04-06 00:19:19.130992 Epoch 20, Training loss 0.3055292299124086\n",
      "2025-04-06 00:19:28.211594 Epoch 30, Training loss 0.2826054324010375\n",
      "2025-04-06 00:19:37.381424 Epoch 40, Training loss 0.25860847561222733\n",
      "2025-04-06 00:19:46.295890 Epoch 50, Training loss 0.23930322744284466\n",
      "2025-04-06 00:19:55.479186 Epoch 60, Training loss 0.22342332770490342\n",
      "2025-04-06 00:20:04.907251 Epoch 70, Training loss 0.20732560556880228\n",
      "2025-04-06 00:20:14.147491 Epoch 80, Training loss 0.19330511878060688\n",
      "2025-04-06 00:20:23.327160 Epoch 90, Training loss 0.17688288352197143\n",
      "2025-04-06 00:20:32.512110 Epoch 100, Training loss 0.16575315855680758\n",
      "2025-04-06 00:20:41.834549 Epoch 110, Training loss 0.15416911671495742\n"
     ]
    },
    {
     "ename": "KeyboardInterrupt",
     "evalue": "",
     "output_type": "error",
     "traceback": [
      "\u001b[0;31m---------------------------------------------------------------------------\u001b[0m",
      "\u001b[0;31mKeyboardInterrupt\u001b[0m                         Traceback (most recent call last)",
      "Cell \u001b[0;32mIn[61], line 7\u001b[0m\n\u001b[1;32m      4\u001b[0m optimizer \u001b[38;5;241m=\u001b[39m optim\u001b[38;5;241m.\u001b[39mSGD(model\u001b[38;5;241m.\u001b[39mparameters(), lr\u001b[38;5;241m=\u001b[39m\u001b[38;5;241m1e-2\u001b[39m)\n\u001b[1;32m      5\u001b[0m loss_fn \u001b[38;5;241m=\u001b[39m nn\u001b[38;5;241m.\u001b[39mCrossEntropyLoss()\n\u001b[0;32m----> 7\u001b[0m \u001b[43mtraining_loop\u001b[49m\u001b[43m(\u001b[49m\n\u001b[1;32m      8\u001b[0m \u001b[43m    \u001b[49m\u001b[43mn_epochs\u001b[49m\u001b[38;5;241;43m=\u001b[39;49m\u001b[38;5;241;43m200\u001b[39;49m\u001b[43m,\u001b[49m\n\u001b[1;32m      9\u001b[0m \u001b[43m    \u001b[49m\u001b[43moptimizer\u001b[49m\u001b[38;5;241;43m=\u001b[39;49m\u001b[43moptimizer\u001b[49m\u001b[43m,\u001b[49m\n\u001b[1;32m     10\u001b[0m \u001b[43m    \u001b[49m\u001b[43mmodel\u001b[49m\u001b[38;5;241;43m=\u001b[39;49m\u001b[43mmodel\u001b[49m\u001b[43m,\u001b[49m\n\u001b[1;32m     11\u001b[0m \u001b[43m    \u001b[49m\u001b[43mloss_fn\u001b[49m\u001b[38;5;241;43m=\u001b[39;49m\u001b[43mloss_fn\u001b[49m\u001b[43m,\u001b[49m\n\u001b[1;32m     12\u001b[0m \u001b[43m    \u001b[49m\u001b[43mtrain_loader\u001b[49m\u001b[38;5;241;43m=\u001b[39;49m\u001b[43mtrain_loader\u001b[49m\u001b[43m,\u001b[49m\n\u001b[1;32m     13\u001b[0m \u001b[43m)\u001b[49m\n",
      "Cell \u001b[0;32mIn[60], line 7\u001b[0m, in \u001b[0;36mtraining_loop\u001b[0;34m(n_epochs, optimizer, model, loss_fn, train_loader)\u001b[0m\n\u001b[1;32m      5\u001b[0m \u001b[38;5;28;01mfor\u001b[39;00m epoch \u001b[38;5;129;01min\u001b[39;00m \u001b[38;5;28mrange\u001b[39m(\u001b[38;5;241m1\u001b[39m, n_epochs \u001b[38;5;241m+\u001b[39m \u001b[38;5;241m1\u001b[39m):  \u001b[38;5;66;03m# loop over 1..n epochs\u001b[39;00m\n\u001b[1;32m      6\u001b[0m     loss_train \u001b[38;5;241m=\u001b[39m \u001b[38;5;241m0.0\u001b[39m\n\u001b[0;32m----> 7\u001b[0m     \u001b[38;5;28;01mfor\u001b[39;00m imgs, labels \u001b[38;5;129;01min\u001b[39;00m train_loader:  \u001b[38;5;66;03m# loops over all batches\u001b[39;00m\n\u001b[1;32m      9\u001b[0m         outputs \u001b[38;5;241m=\u001b[39m model(imgs)  \u001b[38;5;66;03m# forward pass of a batch\u001b[39;00m\n\u001b[1;32m     11\u001b[0m         loss \u001b[38;5;241m=\u001b[39m loss_fn(outputs, labels)  \u001b[38;5;66;03m# compute the loss value\u001b[39;00m\n",
      "File \u001b[0;32m~/dl/.venv/lib/python3.10/site-packages/torch/utils/data/dataloader.py:634\u001b[0m, in \u001b[0;36m_BaseDataLoaderIter.__next__\u001b[0;34m(self)\u001b[0m\n\u001b[1;32m    631\u001b[0m \u001b[38;5;28;01mif\u001b[39;00m \u001b[38;5;28mself\u001b[39m\u001b[38;5;241m.\u001b[39m_sampler_iter \u001b[38;5;129;01mis\u001b[39;00m \u001b[38;5;28;01mNone\u001b[39;00m:\n\u001b[1;32m    632\u001b[0m     \u001b[38;5;66;03m# TODO(https://github.com/pytorch/pytorch/issues/76750)\u001b[39;00m\n\u001b[1;32m    633\u001b[0m     \u001b[38;5;28mself\u001b[39m\u001b[38;5;241m.\u001b[39m_reset()  \u001b[38;5;66;03m# type: ignore[call-arg]\u001b[39;00m\n\u001b[0;32m--> 634\u001b[0m data \u001b[38;5;241m=\u001b[39m \u001b[38;5;28;43mself\u001b[39;49m\u001b[38;5;241;43m.\u001b[39;49m\u001b[43m_next_data\u001b[49m\u001b[43m(\u001b[49m\u001b[43m)\u001b[49m\n\u001b[1;32m    635\u001b[0m \u001b[38;5;28mself\u001b[39m\u001b[38;5;241m.\u001b[39m_num_yielded \u001b[38;5;241m+\u001b[39m\u001b[38;5;241m=\u001b[39m \u001b[38;5;241m1\u001b[39m\n\u001b[1;32m    636\u001b[0m \u001b[38;5;28;01mif\u001b[39;00m \u001b[38;5;28mself\u001b[39m\u001b[38;5;241m.\u001b[39m_dataset_kind \u001b[38;5;241m==\u001b[39m _DatasetKind\u001b[38;5;241m.\u001b[39mIterable \u001b[38;5;129;01mand\u001b[39;00m \\\n\u001b[1;32m    637\u001b[0m         \u001b[38;5;28mself\u001b[39m\u001b[38;5;241m.\u001b[39m_IterableDataset_len_called \u001b[38;5;129;01mis\u001b[39;00m \u001b[38;5;129;01mnot\u001b[39;00m \u001b[38;5;28;01mNone\u001b[39;00m \u001b[38;5;129;01mand\u001b[39;00m \\\n\u001b[1;32m    638\u001b[0m         \u001b[38;5;28mself\u001b[39m\u001b[38;5;241m.\u001b[39m_num_yielded \u001b[38;5;241m>\u001b[39m \u001b[38;5;28mself\u001b[39m\u001b[38;5;241m.\u001b[39m_IterableDataset_len_called:\n",
      "File \u001b[0;32m~/dl/.venv/lib/python3.10/site-packages/torch/utils/data/dataloader.py:678\u001b[0m, in \u001b[0;36m_SingleProcessDataLoaderIter._next_data\u001b[0;34m(self)\u001b[0m\n\u001b[1;32m    676\u001b[0m \u001b[38;5;28;01mdef\u001b[39;00m \u001b[38;5;21m_next_data\u001b[39m(\u001b[38;5;28mself\u001b[39m):\n\u001b[1;32m    677\u001b[0m     index \u001b[38;5;241m=\u001b[39m \u001b[38;5;28mself\u001b[39m\u001b[38;5;241m.\u001b[39m_next_index()  \u001b[38;5;66;03m# may raise StopIteration\u001b[39;00m\n\u001b[0;32m--> 678\u001b[0m     data \u001b[38;5;241m=\u001b[39m \u001b[38;5;28;43mself\u001b[39;49m\u001b[38;5;241;43m.\u001b[39;49m\u001b[43m_dataset_fetcher\u001b[49m\u001b[38;5;241;43m.\u001b[39;49m\u001b[43mfetch\u001b[49m\u001b[43m(\u001b[49m\u001b[43mindex\u001b[49m\u001b[43m)\u001b[49m  \u001b[38;5;66;03m# may raise StopIteration\u001b[39;00m\n\u001b[1;32m    679\u001b[0m     \u001b[38;5;28;01mif\u001b[39;00m \u001b[38;5;28mself\u001b[39m\u001b[38;5;241m.\u001b[39m_pin_memory:\n\u001b[1;32m    680\u001b[0m         data \u001b[38;5;241m=\u001b[39m _utils\u001b[38;5;241m.\u001b[39mpin_memory\u001b[38;5;241m.\u001b[39mpin_memory(data, \u001b[38;5;28mself\u001b[39m\u001b[38;5;241m.\u001b[39m_pin_memory_device)\n",
      "File \u001b[0;32m~/dl/.venv/lib/python3.10/site-packages/torch/utils/data/_utils/fetch.py:54\u001b[0m, in \u001b[0;36m_MapDatasetFetcher.fetch\u001b[0;34m(self, possibly_batched_index)\u001b[0m\n\u001b[1;32m     52\u001b[0m \u001b[38;5;28;01melse\u001b[39;00m:\n\u001b[1;32m     53\u001b[0m     data \u001b[38;5;241m=\u001b[39m \u001b[38;5;28mself\u001b[39m\u001b[38;5;241m.\u001b[39mdataset[possibly_batched_index]\n\u001b[0;32m---> 54\u001b[0m \u001b[38;5;28;01mreturn\u001b[39;00m \u001b[38;5;28;43mself\u001b[39;49m\u001b[38;5;241;43m.\u001b[39;49m\u001b[43mcollate_fn\u001b[49m\u001b[43m(\u001b[49m\u001b[43mdata\u001b[49m\u001b[43m)\u001b[49m\n",
      "File \u001b[0;32m~/dl/.venv/lib/python3.10/site-packages/torch/utils/data/_utils/collate.py:264\u001b[0m, in \u001b[0;36mdefault_collate\u001b[0;34m(batch)\u001b[0m\n\u001b[1;32m    203\u001b[0m \u001b[38;5;28;01mdef\u001b[39;00m \u001b[38;5;21mdefault_collate\u001b[39m(batch):\n\u001b[1;32m    204\u001b[0m \u001b[38;5;250m    \u001b[39m\u001b[38;5;124mr\u001b[39m\u001b[38;5;124;03m\"\"\"\u001b[39;00m\n\u001b[1;32m    205\u001b[0m \u001b[38;5;124;03m        Function that takes in a batch of data and puts the elements within the batch\u001b[39;00m\n\u001b[1;32m    206\u001b[0m \u001b[38;5;124;03m        into a tensor with an additional outer dimension - batch size. The exact output type can be\u001b[39;00m\n\u001b[0;32m   (...)\u001b[0m\n\u001b[1;32m    262\u001b[0m \u001b[38;5;124;03m            >>> default_collate(batch)  # Handle `CustomType` automatically\u001b[39;00m\n\u001b[1;32m    263\u001b[0m \u001b[38;5;124;03m    \"\"\"\u001b[39;00m\n\u001b[0;32m--> 264\u001b[0m     \u001b[38;5;28;01mreturn\u001b[39;00m \u001b[43mcollate\u001b[49m\u001b[43m(\u001b[49m\u001b[43mbatch\u001b[49m\u001b[43m,\u001b[49m\u001b[43m \u001b[49m\u001b[43mcollate_fn_map\u001b[49m\u001b[38;5;241;43m=\u001b[39;49m\u001b[43mdefault_collate_fn_map\u001b[49m\u001b[43m)\u001b[49m\n",
      "File \u001b[0;32m~/dl/.venv/lib/python3.10/site-packages/torch/utils/data/_utils/collate.py:142\u001b[0m, in \u001b[0;36mcollate\u001b[0;34m(batch, collate_fn_map)\u001b[0m\n\u001b[1;32m    139\u001b[0m transposed \u001b[38;5;241m=\u001b[39m \u001b[38;5;28mlist\u001b[39m(\u001b[38;5;28mzip\u001b[39m(\u001b[38;5;241m*\u001b[39mbatch))  \u001b[38;5;66;03m# It may be accessed twice, so we use a list.\u001b[39;00m\n\u001b[1;32m    141\u001b[0m \u001b[38;5;28;01mif\u001b[39;00m \u001b[38;5;28misinstance\u001b[39m(elem, \u001b[38;5;28mtuple\u001b[39m):\n\u001b[0;32m--> 142\u001b[0m     \u001b[38;5;28;01mreturn\u001b[39;00m [collate(samples, collate_fn_map\u001b[38;5;241m=\u001b[39mcollate_fn_map) \u001b[38;5;28;01mfor\u001b[39;00m samples \u001b[38;5;129;01min\u001b[39;00m transposed]  \u001b[38;5;66;03m# Backwards compatibility.\u001b[39;00m\n\u001b[1;32m    143\u001b[0m \u001b[38;5;28;01melse\u001b[39;00m:\n\u001b[1;32m    144\u001b[0m     \u001b[38;5;28;01mtry\u001b[39;00m:\n",
      "File \u001b[0;32m~/dl/.venv/lib/python3.10/site-packages/torch/utils/data/_utils/collate.py:142\u001b[0m, in \u001b[0;36m<listcomp>\u001b[0;34m(.0)\u001b[0m\n\u001b[1;32m    139\u001b[0m transposed \u001b[38;5;241m=\u001b[39m \u001b[38;5;28mlist\u001b[39m(\u001b[38;5;28mzip\u001b[39m(\u001b[38;5;241m*\u001b[39mbatch))  \u001b[38;5;66;03m# It may be accessed twice, so we use a list.\u001b[39;00m\n\u001b[1;32m    141\u001b[0m \u001b[38;5;28;01mif\u001b[39;00m \u001b[38;5;28misinstance\u001b[39m(elem, \u001b[38;5;28mtuple\u001b[39m):\n\u001b[0;32m--> 142\u001b[0m     \u001b[38;5;28;01mreturn\u001b[39;00m [\u001b[43mcollate\u001b[49m\u001b[43m(\u001b[49m\u001b[43msamples\u001b[49m\u001b[43m,\u001b[49m\u001b[43m \u001b[49m\u001b[43mcollate_fn_map\u001b[49m\u001b[38;5;241;43m=\u001b[39;49m\u001b[43mcollate_fn_map\u001b[49m\u001b[43m)\u001b[49m \u001b[38;5;28;01mfor\u001b[39;00m samples \u001b[38;5;129;01min\u001b[39;00m transposed]  \u001b[38;5;66;03m# Backwards compatibility.\u001b[39;00m\n\u001b[1;32m    143\u001b[0m \u001b[38;5;28;01melse\u001b[39;00m:\n\u001b[1;32m    144\u001b[0m     \u001b[38;5;28;01mtry\u001b[39;00m:\n",
      "File \u001b[0;32m~/dl/.venv/lib/python3.10/site-packages/torch/utils/data/_utils/collate.py:119\u001b[0m, in \u001b[0;36mcollate\u001b[0;34m(batch, collate_fn_map)\u001b[0m\n\u001b[1;32m    117\u001b[0m \u001b[38;5;28;01mif\u001b[39;00m collate_fn_map \u001b[38;5;129;01mis\u001b[39;00m \u001b[38;5;129;01mnot\u001b[39;00m \u001b[38;5;28;01mNone\u001b[39;00m:\n\u001b[1;32m    118\u001b[0m     \u001b[38;5;28;01mif\u001b[39;00m elem_type \u001b[38;5;129;01min\u001b[39;00m collate_fn_map:\n\u001b[0;32m--> 119\u001b[0m         \u001b[38;5;28;01mreturn\u001b[39;00m \u001b[43mcollate_fn_map\u001b[49m\u001b[43m[\u001b[49m\u001b[43melem_type\u001b[49m\u001b[43m]\u001b[49m\u001b[43m(\u001b[49m\u001b[43mbatch\u001b[49m\u001b[43m,\u001b[49m\u001b[43m \u001b[49m\u001b[43mcollate_fn_map\u001b[49m\u001b[38;5;241;43m=\u001b[39;49m\u001b[43mcollate_fn_map\u001b[49m\u001b[43m)\u001b[49m\n\u001b[1;32m    121\u001b[0m     \u001b[38;5;28;01mfor\u001b[39;00m collate_type \u001b[38;5;129;01min\u001b[39;00m collate_fn_map:\n\u001b[1;32m    122\u001b[0m         \u001b[38;5;28;01mif\u001b[39;00m \u001b[38;5;28misinstance\u001b[39m(elem, collate_type):\n",
      "File \u001b[0;32m~/dl/.venv/lib/python3.10/site-packages/torch/utils/data/_utils/collate.py:162\u001b[0m, in \u001b[0;36mcollate_tensor_fn\u001b[0;34m(batch, collate_fn_map)\u001b[0m\n\u001b[1;32m    160\u001b[0m     storage \u001b[38;5;241m=\u001b[39m elem\u001b[38;5;241m.\u001b[39m_typed_storage()\u001b[38;5;241m.\u001b[39m_new_shared(numel, device\u001b[38;5;241m=\u001b[39melem\u001b[38;5;241m.\u001b[39mdevice)\n\u001b[1;32m    161\u001b[0m     out \u001b[38;5;241m=\u001b[39m elem\u001b[38;5;241m.\u001b[39mnew(storage)\u001b[38;5;241m.\u001b[39mresize_(\u001b[38;5;28mlen\u001b[39m(batch), \u001b[38;5;241m*\u001b[39m\u001b[38;5;28mlist\u001b[39m(elem\u001b[38;5;241m.\u001b[39msize()))\n\u001b[0;32m--> 162\u001b[0m \u001b[38;5;28;01mreturn\u001b[39;00m \u001b[43mtorch\u001b[49m\u001b[38;5;241;43m.\u001b[39;49m\u001b[43mstack\u001b[49m\u001b[43m(\u001b[49m\u001b[43mbatch\u001b[49m\u001b[43m,\u001b[49m\u001b[43m \u001b[49m\u001b[38;5;241;43m0\u001b[39;49m\u001b[43m,\u001b[49m\u001b[43m \u001b[49m\u001b[43mout\u001b[49m\u001b[38;5;241;43m=\u001b[39;49m\u001b[43mout\u001b[49m\u001b[43m)\u001b[49m\n",
      "\u001b[0;31mKeyboardInterrupt\u001b[0m: "
     ]
    }
   ],
   "source": [
    "train_loader = torch.utils.data.DataLoader(cifar2, batch_size=64, shuffle=True)\n",
    "\n",
    "model = Net()\n",
    "optimizer = optim.SGD(model.parameters(), lr=1e-2)\n",
    "loss_fn = nn.CrossEntropyLoss()\n",
    "\n",
    "training_loop(\n",
    "    n_epochs=200,\n",
    "    optimizer=optimizer,\n",
    "    model=model,\n",
    "    loss_fn=loss_fn,\n",
    "    train_loader=train_loader,\n",
    ")"
   ]
  },
  {
   "cell_type": "code",
   "execution_count": 39,
   "metadata": {},
   "outputs": [
    {
     "data": {
      "text/plain": [
       "157"
      ]
     },
     "execution_count": 39,
     "metadata": {},
     "output_type": "execute_result"
    }
   ],
   "source": [
    "len(train_loader) # This is the number of batches"
   ]
  },
  {
   "cell_type": "code",
   "execution_count": 62,
   "metadata": {},
   "outputs": [
    {
     "name": "stdout",
     "output_type": "stream",
     "text": [
      "Accuracy train: 0.95\n",
      "Accuracy val: 0.90\n"
     ]
    }
   ],
   "source": [
    "train_loader = torch.utils.data.DataLoader(cifar2, batch_size=64, shuffle=False)\n",
    "val_loader = torch.utils.data.DataLoader(cifar2_val, batch_size=64, shuffle=False)\n",
    "\n",
    "\n",
    "def validate(model, train_loader, val_loader):\n",
    "    for name, loader in [(\"train\", train_loader), (\"val\", val_loader)]:\n",
    "        correct = 0\n",
    "        total = 0\n",
    "\n",
    "        with torch.no_grad():  # we don't need gradients in the validation phase\n",
    "            for imgs, labels in loader:\n",
    "                outputs = model(imgs)\n",
    "                # we get the indexes of the highest values in the output\n",
    "                _, predicted = torch.max(outputs, dim=1)\n",
    "                # sum up the number of examples in the batch\n",
    "                total += labels.shape[0]\n",
    "\n",
    "                # sum up the number of correct predictions\n",
    "                correct += (predicted == labels).sum().item()\n",
    "\n",
    "        print(\"Accuracy {}: {:.2f}\".format(name, correct / total))\n",
    "\n",
    "\n",
    "validate(model, train_loader, val_loader)"
   ]
  },
  {
   "cell_type": "markdown",
   "metadata": {},
   "source": [
    "## How to save and load"
   ]
  },
  {
   "cell_type": "code",
   "execution_count": null,
   "metadata": {},
   "outputs": [
    {
     "data": {
      "text/plain": [
       "OrderedDict([('conv1.weight',\n",
       "              tensor([[[[-1.0495e-01, -1.9907e-01,  1.4154e-01],\n",
       "                        [-8.3158e-02,  1.5012e-01, -7.7436e-03],\n",
       "                        [-2.6351e-02,  1.8909e-01,  2.7881e-01]],\n",
       "              \n",
       "                       [[-5.4061e-02, -2.4768e-01, -2.7788e-01],\n",
       "                        [-2.3544e-01,  7.3760e-02,  9.8040e-03],\n",
       "                        [ 5.7875e-02, -1.8359e-01, -1.7172e-01]],\n",
       "              \n",
       "                       [[ 5.7389e-02, -2.2570e-01, -1.1760e-01],\n",
       "                        [ 1.9117e-02, -3.3285e-02, -3.0339e-01],\n",
       "                        [ 1.8529e-01, -2.9753e-02, -2.5374e-01]]],\n",
       "              \n",
       "              \n",
       "                      [[[ 6.6060e-03,  4.3787e-02,  6.3657e-05],\n",
       "                        [ 3.1496e-01, -3.8151e-02, -2.1312e-01],\n",
       "                        [ 1.3092e-01, -8.2160e-02, -3.8736e-01]],\n",
       "              \n",
       "                       [[-1.5273e-01,  1.2040e-01,  1.0886e-01],\n",
       "                        [ 2.2453e-01, -1.2113e-01, -1.9311e-01],\n",
       "                        [ 3.6464e-01, -1.1279e-01, -3.7120e-01]],\n",
       "              \n",
       "                       [[ 2.4015e-02, -7.2333e-02, -5.1545e-02],\n",
       "                        [ 5.2514e-01,  1.6145e-01, -2.4042e-01],\n",
       "                        [ 5.8352e-01,  3.5551e-02, -6.0908e-01]]],\n",
       "              \n",
       "              \n",
       "                      [[[ 2.7086e-01,  1.6333e-01,  9.7291e-02],\n",
       "                        [ 3.0745e-01,  2.4206e-01,  2.3505e-01],\n",
       "                        [ 3.7370e-01,  2.0985e-01,  3.3395e-01]],\n",
       "              \n",
       "                       [[ 1.2501e-01, -2.1011e-01,  2.5402e-02],\n",
       "                        [-1.1822e-01, -3.5644e-02,  7.6210e-02],\n",
       "                        [ 1.4096e-01,  1.3295e-01, -2.3898e-02]],\n",
       "              \n",
       "                       [[-5.3230e-02, -9.9072e-02, -7.0338e-02],\n",
       "                        [ 1.4782e-01,  1.2336e-02, -1.8260e-01],\n",
       "                        [ 4.3143e-02, -2.3330e-01, -2.3649e-01]]],\n",
       "              \n",
       "              \n",
       "                      [[[-8.5920e-02, -2.5552e-01, -6.2592e-03],\n",
       "                        [-1.7220e-01, -1.2130e-01, -9.9176e-02],\n",
       "                        [-1.1172e-01,  9.8556e-03,  6.9513e-02]],\n",
       "              \n",
       "                       [[ 2.8345e-01,  1.5592e-01,  3.9962e-01],\n",
       "                        [ 2.5402e-01, -1.3884e-01,  3.3150e-01],\n",
       "                        [ 2.8719e-01,  3.2042e-02,  4.3313e-02]],\n",
       "              \n",
       "                       [[-7.6792e-02, -5.8527e-01, -3.2770e-01],\n",
       "                        [-2.3292e-01, -2.5637e-01, -2.9894e-01],\n",
       "                        [-9.9784e-02, -1.8536e-02, -8.4290e-02]]],\n",
       "              \n",
       "              \n",
       "                      [[[-2.0934e-01, -5.0194e-02, -1.3460e-01],\n",
       "                        [-2.8384e-01, -1.9536e-01, -1.3797e-01],\n",
       "                        [-2.7056e-01, -2.4218e-01, -1.7386e-01]],\n",
       "              \n",
       "                       [[-1.4105e-01,  1.1837e-01, -8.4479e-02],\n",
       "                        [-1.3587e-01,  4.4156e-02,  9.2656e-02],\n",
       "                        [-1.7866e-01, -1.8012e-01, -5.5455e-02]],\n",
       "              \n",
       "                       [[-1.1765e-01,  2.8179e-01, -6.2558e-02],\n",
       "                        [-1.2620e-01, -1.2712e-01,  4.6882e-02],\n",
       "                        [-1.5752e-02,  2.1252e-01, -5.6557e-02]]],\n",
       "              \n",
       "              \n",
       "                      [[[-2.1072e-01,  1.3474e-01,  4.2187e-01],\n",
       "                        [ 1.6629e-01,  1.0196e-01,  1.6400e-01],\n",
       "                        [ 2.7393e-01,  1.6127e-01, -2.1908e-02]],\n",
       "              \n",
       "                       [[-4.9291e-02, -9.6368e-02,  2.2863e-01],\n",
       "                        [-4.0458e-01,  1.0806e-01,  1.9802e-01],\n",
       "                        [-6.7408e-02, -2.2696e-01, -4.3336e-03]],\n",
       "              \n",
       "                       [[-3.9192e-01, -1.3211e-01,  4.8520e-01],\n",
       "                        [-4.3305e-01,  2.7231e-02,  1.7116e-02],\n",
       "                        [-1.1214e-01, -2.5420e-01, -8.0232e-02]]],\n",
       "              \n",
       "              \n",
       "                      [[[ 1.6615e-02, -1.2338e-01,  9.5966e-02],\n",
       "                        [ 2.4664e-01,  2.7976e-01, -3.8277e-01],\n",
       "                        [-3.7407e-01, -4.0698e-02,  3.6498e-01]],\n",
       "              \n",
       "                       [[ 1.3482e-01,  1.4174e-02, -1.0033e-01],\n",
       "                        [ 2.3394e-01,  2.3641e-01, -4.4557e-01],\n",
       "                        [-3.4176e-01, -1.9437e-03,  4.0076e-01]],\n",
       "              \n",
       "                       [[-1.3748e-01, -1.2402e-01,  1.9333e-01],\n",
       "                        [ 1.1288e-01,  8.3250e-02, -1.7264e-01],\n",
       "                        [-6.3638e-01, -5.0208e-02,  6.3547e-01]]],\n",
       "              \n",
       "              \n",
       "                      [[[-2.0882e-02,  3.0916e-01,  1.5834e-01],\n",
       "                        [ 1.9128e-01,  2.6014e-01,  2.3188e-01],\n",
       "                        [ 5.4905e-02, -1.1330e-01, -4.5655e-01]],\n",
       "              \n",
       "                       [[-2.4312e-01, -6.8050e-02, -1.4368e-01],\n",
       "                        [-2.1480e-01,  2.6834e-01, -4.8507e-02],\n",
       "                        [-1.2489e-01,  1.6389e-01, -1.1398e-01]],\n",
       "              \n",
       "                       [[-2.0207e-01,  7.0775e-02, -1.8904e-01],\n",
       "                        [-5.8751e-02,  1.6372e-01, -1.8452e-01],\n",
       "                        [ 1.2367e-01,  1.0265e-01, -3.5859e-02]]],\n",
       "              \n",
       "              \n",
       "                      [[[-1.2209e-01, -3.9745e-02,  3.1597e-01],\n",
       "                        [ 1.4675e-01, -3.5378e-01,  8.6975e-03],\n",
       "                        [ 7.2989e-02, -8.0120e-02,  3.2940e-02]],\n",
       "              \n",
       "                       [[-1.1969e-01,  1.5457e-02, -4.9299e-02],\n",
       "                        [-1.6375e-02, -1.1603e-01, -2.8185e-02],\n",
       "                        [ 2.5283e-01, -3.0625e-02, -3.0857e-02]],\n",
       "              \n",
       "                       [[-1.4874e-01,  1.4735e-02,  1.5931e-03],\n",
       "                        [ 2.4358e-01, -2.1833e-01, -1.1154e-01],\n",
       "                        [ 1.2142e-01,  1.0571e-01, -2.8260e-01]]],\n",
       "              \n",
       "              \n",
       "                      [[[-2.3923e-01, -2.4869e-01, -2.5369e-01],\n",
       "                        [-8.9699e-02, -1.2054e-01,  1.7112e-01],\n",
       "                        [ 1.0108e-01,  3.2792e-01,  3.0955e-01]],\n",
       "              \n",
       "                       [[-1.9108e-01, -2.3367e-01, -3.7958e-01],\n",
       "                        [-1.5619e-01,  2.3474e-01,  1.7570e-01],\n",
       "                        [ 9.9100e-02,  1.7453e-01,  1.1807e-01]],\n",
       "              \n",
       "                       [[-9.7190e-02,  1.0073e-01, -1.5754e-01],\n",
       "                        [-1.0631e-01,  8.5383e-02, -1.1312e-01],\n",
       "                        [-1.0520e-01,  5.4936e-02,  7.6453e-02]]],\n",
       "              \n",
       "              \n",
       "                      [[[-1.4304e-01,  1.4437e-01, -3.0946e-01],\n",
       "                        [-2.6428e-02,  4.1073e-02, -2.5219e-01],\n",
       "                        [ 3.2815e-02, -1.7997e-01, -2.7635e-01]],\n",
       "              \n",
       "                       [[-1.9396e-01,  1.6629e-01, -1.1395e-01],\n",
       "                        [ 1.9245e-01, -4.4095e-02, -9.2270e-02],\n",
       "                        [-1.1800e-02, -2.6282e-02,  1.4701e-01]],\n",
       "              \n",
       "                       [[-1.5905e-01,  2.5079e-02,  2.1512e-01],\n",
       "                        [-1.0946e-01,  1.2874e-03,  1.4034e-01],\n",
       "                        [-1.4635e-01,  1.3667e-01,  2.6982e-02]]],\n",
       "              \n",
       "              \n",
       "                      [[[ 5.9055e-02, -1.5908e-01, -1.7635e-02],\n",
       "                        [ 1.4037e-01,  1.0440e-01, -2.9712e-01],\n",
       "                        [ 2.8125e-01,  2.6109e-01, -2.2322e-01]],\n",
       "              \n",
       "                       [[-5.3466e-02, -7.9887e-02, -1.8168e-01],\n",
       "                        [-5.1709e-02,  4.3517e-02,  1.4104e-02],\n",
       "                        [-1.4300e-01,  2.1146e-01,  4.1757e-03]],\n",
       "              \n",
       "                       [[-1.8520e-01,  2.0421e-01, -6.4709e-02],\n",
       "                        [-2.3913e-01,  1.5189e-01, -1.2618e-01],\n",
       "                        [-1.3741e-01,  1.7975e-01,  5.8158e-02]]],\n",
       "              \n",
       "              \n",
       "                      [[[-1.5368e-01, -2.6843e-01,  1.5202e-02],\n",
       "                        [-9.4360e-02,  3.0700e-02, -1.0178e-01],\n",
       "                        [-2.4259e-01, -6.6718e-02, -3.7611e-01]],\n",
       "              \n",
       "                       [[ 1.4903e-01,  1.4739e-01,  3.8570e-01],\n",
       "                        [ 2.3992e-01,  4.2386e-01,  3.1567e-01],\n",
       "                        [-1.6602e-02,  2.6657e-01,  9.3994e-02]],\n",
       "              \n",
       "                       [[-1.9594e-01, -3.1230e-01, -7.6554e-03],\n",
       "                        [ 7.3268e-02,  9.5984e-03,  2.5373e-01],\n",
       "                        [-3.5715e-01,  1.8061e-02, -3.0758e-01]]],\n",
       "              \n",
       "              \n",
       "                      [[[ 3.3354e-01, -5.5279e-02,  3.6327e-01],\n",
       "                        [ 1.7248e-01, -9.5101e-02, -2.5333e-01],\n",
       "                        [ 1.9318e-02,  3.4425e-01, -5.5062e-02]],\n",
       "              \n",
       "                       [[-1.3642e-01, -3.4872e-01, -1.9727e-01],\n",
       "                        [ 2.3476e-01,  3.6598e-02, -4.1138e-01],\n",
       "                        [ 1.1017e-01,  2.7672e-01,  3.6279e-02]],\n",
       "              \n",
       "                       [[-1.9826e-01, -1.3581e-01, -1.0759e-01],\n",
       "                        [ 5.9020e-02,  1.4096e-01, -2.4878e-02],\n",
       "                        [-2.6812e-01,  9.4066e-02, -6.4981e-02]]],\n",
       "              \n",
       "              \n",
       "                      [[[ 8.1774e-02, -2.5030e-01, -7.2342e-02],\n",
       "                        [ 8.6118e-02, -3.7355e-01, -4.5872e-02],\n",
       "                        [-8.3372e-02, -2.4998e-01,  9.9397e-02]],\n",
       "              \n",
       "                       [[ 3.1373e-01,  6.0290e-03, -1.8296e-03],\n",
       "                        [-4.1624e-02, -1.7733e-01, -1.7662e-02],\n",
       "                        [ 3.1359e-01,  1.4368e-01,  9.5124e-02]],\n",
       "              \n",
       "                       [[ 6.9232e-02,  8.6670e-03, -1.9401e-01],\n",
       "                        [ 3.4663e-01, -2.6752e-01,  5.0273e-02],\n",
       "                        [ 3.0295e-01,  6.4292e-02, -1.0874e-01]]],\n",
       "              \n",
       "              \n",
       "                      [[[ 3.4195e-02, -2.9389e-01, -2.2726e-01],\n",
       "                        [ 1.4165e-02, -4.8093e-01, -1.5823e-01],\n",
       "                        [ 2.9852e-02, -4.9068e-01,  3.8629e-02]],\n",
       "              \n",
       "                       [[ 2.3865e-01, -4.5439e-02, -3.8589e-02],\n",
       "                        [ 2.7227e-01,  1.2293e-02,  2.1511e-01],\n",
       "                        [ 3.0486e-01, -4.7688e-03,  1.8538e-02]],\n",
       "              \n",
       "                       [[-2.2190e-02,  6.0811e-02,  2.2093e-01],\n",
       "                        [ 9.5270e-02,  1.1013e-01,  3.9042e-01],\n",
       "                        [ 6.5103e-03,  1.0554e-01,  2.2094e-01]]]])),\n",
       "             ('conv1.bias',\n",
       "              tensor([ 0.1190, -0.2696,  0.1380,  0.0250, -0.1028, -0.0354, -0.1158, -0.1438,\n",
       "                      -0.1937, -0.8055, -0.0197, -0.1500, -0.1548, -0.3612,  0.1093,  0.1660])),\n",
       "             ('conv2.weight',\n",
       "              tensor([[[[ 0.1704,  0.1839,  0.1039],\n",
       "                        [ 0.0871,  0.0788, -0.1080],\n",
       "                        [ 0.0679,  0.0006, -0.2165]],\n",
       "              \n",
       "                       [[ 0.1089, -0.0447, -0.0664],\n",
       "                        [-0.0904,  0.2060,  0.1493],\n",
       "                        [ 0.0019,  0.0142,  0.0357]],\n",
       "              \n",
       "                       ...,\n",
       "              \n",
       "                       [[-0.0138, -0.1715, -0.1577],\n",
       "                        [-0.1140, -0.0460,  0.1261],\n",
       "                        [ 0.0100,  0.0642,  0.0614]],\n",
       "              \n",
       "                       [[-0.0513,  0.0614, -0.0132],\n",
       "                        [-0.1447, -0.0500, -0.0169],\n",
       "                        [-0.1661, -0.1193,  0.0809]]],\n",
       "              \n",
       "              \n",
       "                      [[[ 0.1407, -0.1208, -0.0597],\n",
       "                        [-0.0987, -0.0948, -0.0927],\n",
       "                        [ 0.1038,  0.0891,  0.1681]],\n",
       "              \n",
       "                       [[-0.0191, -0.0754, -0.2175],\n",
       "                        [-0.1777,  0.0541, -0.0574],\n",
       "                        [-0.2313, -0.1891,  0.0210]],\n",
       "              \n",
       "                       ...,\n",
       "              \n",
       "                       [[ 0.0711, -0.1574, -0.0579],\n",
       "                        [ 0.1010, -0.1347, -0.1126],\n",
       "                        [-0.1797, -0.1509,  0.0101]],\n",
       "              \n",
       "                       [[ 0.0735, -0.0058, -0.0141],\n",
       "                        [ 0.2304, -0.1507, -0.0164],\n",
       "                        [ 0.1231,  0.0403,  0.1652]]],\n",
       "              \n",
       "              \n",
       "                      ...,\n",
       "              \n",
       "              \n",
       "                      [[[ 0.0528, -0.1098, -0.0470],\n",
       "                        [-0.2538, -0.3002, -0.0308],\n",
       "                        [ 0.0186, -0.0838,  0.0396]],\n",
       "              \n",
       "                       [[-0.0416, -0.0395, -0.1770],\n",
       "                        [ 0.2539,  0.0744,  0.0315],\n",
       "                        [ 0.0549, -0.1058, -0.1474]],\n",
       "              \n",
       "                       ...,\n",
       "              \n",
       "                       [[-0.0727, -0.1252,  0.0294],\n",
       "                        [-0.0543,  0.1036, -0.0223],\n",
       "                        [ 0.0441,  0.0457, -0.0098]],\n",
       "              \n",
       "                       [[-0.1841,  0.0233,  0.0511],\n",
       "                        [ 0.0745,  0.0056,  0.0200],\n",
       "                        [-0.0234,  0.0220, -0.0615]]],\n",
       "              \n",
       "              \n",
       "                      [[[ 0.2466, -0.0285,  0.0775],\n",
       "                        [ 0.0893, -0.0982,  0.0827],\n",
       "                        [-0.1925, -0.1251,  0.0686]],\n",
       "              \n",
       "                       [[-0.2649,  0.0744, -0.0084],\n",
       "                        [-0.0989, -0.1048, -0.0410],\n",
       "                        [-0.1536,  0.0134,  0.1050]],\n",
       "              \n",
       "                       ...,\n",
       "              \n",
       "                       [[ 0.1369,  0.1554, -0.0148],\n",
       "                        [-0.1644, -0.0313, -0.1739],\n",
       "                        [-0.1300, -0.0273, -0.1193]],\n",
       "              \n",
       "                       [[ 0.0538, -0.0094,  0.1120],\n",
       "                        [-0.0077,  0.1027, -0.0151],\n",
       "                        [-0.0151,  0.1580,  0.0507]]]])),\n",
       "             ('conv2.bias',\n",
       "              tensor([-0.1340, -0.1409, -0.1161, -0.2474, -0.2360, -0.1151, -0.1483,  0.0118])),\n",
       "             ('fc1.weight',\n",
       "              tensor([[ 0.0348,  0.0427,  ..., -0.0025,  0.0269],\n",
       "                      [ 0.0109,  0.0297,  ...,  0.0313, -0.0116],\n",
       "                      ...,\n",
       "                      [ 0.0342,  0.0168,  ..., -0.0096, -0.0166],\n",
       "                      [-0.0218, -0.0039,  ..., -0.0109,  0.0021]])),\n",
       "             ('fc1.bias',\n",
       "              tensor([ 0.0308,  0.0067,  0.0517,  0.0394,  0.0256,  0.0232, -0.1322,  0.0708,\n",
       "                      -0.0300,  0.0182,  0.0165,  0.0266, -0.0524,  0.0194, -0.1745,  0.0411,\n",
       "                      -0.1173, -0.0360, -0.0011, -0.2280, -0.0194, -0.0764,  0.1415,  0.0258,\n",
       "                       0.0271,  0.0289,  0.0439, -0.0361, -0.0575, -0.1038,  0.0580,  0.1004])),\n",
       "             ('fc2.weight',\n",
       "              tensor([[ 0.0671,  0.0422,  0.5835,  0.1875,  0.5699,  0.0610, -0.8923,  0.1507,\n",
       "                       -0.2402,  0.2569,  0.0576,  0.2009, -1.2664,  0.3070, -0.9968,  0.2611,\n",
       "                       -0.5209,  0.2895,  0.0040, -0.9461,  0.2436, -0.4478,  1.1053,  0.0016,\n",
       "                        1.2125,  0.0618,  0.2151, -0.0425, -0.2785, -0.6811,  0.2425,  0.3099],\n",
       "                      [-0.3864,  0.2262, -0.5024, -0.0761, -0.5416,  0.0341,  0.8860, -0.2767,\n",
       "                       -0.0140, -0.2540, -0.0806,  0.0204,  1.3183, -0.2383,  1.0775, -0.1640,\n",
       "                        0.5472, -0.4436,  0.0529,  0.9213, -0.2793,  0.4258, -1.1457,  0.2131,\n",
       "                       -1.1816,  0.1813, -0.2985,  0.1620,  0.3608,  0.7224, -0.3001, -0.4835]])),\n",
       "             ('fc2.bias', tensor([ 0.1097, -0.2340]))])"
      ]
     },
     "metadata": {},
     "output_type": "display_data"
    }
   ],
   "source": [
    "model.state_dict()"
   ]
  },
  {
   "cell_type": "code",
   "execution_count": null,
   "metadata": {},
   "outputs": [],
   "source": [
    "torch.save(model.state_dict(), data_path + \"birds_vs_airplanes.pt\")\n",
    "\n",
    "# The resulting file stores only the weights of the model.\n",
    "# If we need to recreate the model, we need to instantiate the model and load the weights."
   ]
  },
  {
   "cell_type": "code",
   "execution_count": null,
   "metadata": {},
   "outputs": [
    {
     "name": "stdout",
     "output_type": "stream",
     "text": [
      "Training on device cuda.\n"
     ]
    }
   ],
   "source": [
    "device = torch.device(\"cuda\") if torch.cuda.is_available() else torch.device(\"cpu\")\n",
    "print(f\"Training on device {device}.\")"
   ]
  },
  {
   "cell_type": "code",
   "execution_count": null,
   "metadata": {},
   "outputs": [
    {
     "data": {
      "text/plain": [
       "<All keys matched successfully>"
      ]
     },
     "metadata": {},
     "output_type": "display_data"
    }
   ],
   "source": [
    "loaded_model = Net()  # <1>\n",
    "loaded_model.load_state_dict(torch.load(data_path + \"birds_vs_airplanes.pt\"))"
   ]
  },
  {
   "cell_type": "code",
   "execution_count": null,
   "metadata": {},
   "outputs": [
    {
     "data": {
      "text/plain": [
       "<All keys matched successfully>"
      ]
     },
     "metadata": {},
     "output_type": "display_data"
    }
   ],
   "source": [
    "# PyTorch will attempt to load the weight to the same device it was saved from\n",
    "# --that is, weights on the GPU will be restored to the GPU. \n",
    "# As we don’t know whether we want the same device, we have two options: \n",
    "# we could move the network to the CPU before saving it, \n",
    "# or move it back after restoring. \n",
    "# \n",
    "# It is a bit more concise to instruct PyTorch to override the device \n",
    "# information when loading weights. This is done by passing the \n",
    "# map_location keyword argument to torch.load:\n",
    "\n",
    "# In this example we're loading the model to the GPU, but \n",
    "# it was saved from the CPU.\n",
    "loaded_model = Net().to(device=device)\n",
    "loaded_model.load_state_dict(\n",
    "    torch.load(data_path + \"birds_vs_airplanes.pt\", map_location=device)\n",
    ")"
   ]
  },
  {
   "cell_type": "code",
   "execution_count": null,
   "metadata": {},
   "outputs": [],
   "source": []
  }
 ],
 "metadata": {
  "celltoolbar": "Tags",
  "kernelspec": {
   "display_name": ".venv",
   "language": "python",
   "name": "python3"
  },
  "language_info": {
   "codemirror_mode": {
    "name": "ipython",
    "version": 3
   },
   "file_extension": ".py",
   "mimetype": "text/x-python",
   "name": "python",
   "nbconvert_exporter": "python",
   "pygments_lexer": "ipython3",
   "version": "3.10.12"
  }
 },
 "nbformat": 4,
 "nbformat_minor": 2
}
