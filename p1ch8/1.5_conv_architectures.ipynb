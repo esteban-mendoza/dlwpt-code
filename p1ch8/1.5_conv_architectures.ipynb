{
 "cells": [
  {
   "cell_type": "markdown",
   "id": "a97e8b0f",
   "metadata": {},
   "source": [
    "# Testing different architectures"
   ]
  },
  {
   "cell_type": "markdown",
   "id": "4091f30b",
   "metadata": {},
   "source": [
    "## Setting"
   ]
  },
  {
   "cell_type": "code",
   "execution_count": 1,
   "id": "c8503030",
   "metadata": {},
   "outputs": [
    {
     "data": {
      "text/plain": [
       "<torch._C.Generator at 0x767755536d70>"
      ]
     },
     "execution_count": 1,
     "metadata": {},
     "output_type": "execute_result"
    }
   ],
   "source": [
    "%matplotlib inline\n",
    "from matplotlib import pyplot as plt\n",
    "import numpy as np\n",
    "import collections\n",
    "\n",
    "import torch\n",
    "import torch.nn as nn\n",
    "import torch.nn.functional as F\n",
    "import torch.optim as optim\n",
    "import datetime\n",
    "\n",
    "from torchvision import datasets, transforms\n",
    "\n",
    "\n",
    "torch.set_printoptions(edgeitems=2)\n",
    "torch.manual_seed(123)"
   ]
  },
  {
   "cell_type": "code",
   "execution_count": 2,
   "id": "7e6167f5",
   "metadata": {},
   "outputs": [],
   "source": [
    "class_names = [\n",
    "    \"airplane\",\n",
    "    \"automobile\",\n",
    "    \"bird\",\n",
    "    \"cat\",\n",
    "    \"deer\",\n",
    "    \"dog\",\n",
    "    \"frog\",\n",
    "    \"horse\",\n",
    "    \"ship\",\n",
    "    \"truck\",\n",
    "]"
   ]
  },
  {
   "cell_type": "code",
   "execution_count": 3,
   "id": "f33ed318",
   "metadata": {},
   "outputs": [
    {
     "name": "stdout",
     "output_type": "stream",
     "text": [
      "Files already downloaded and verified\n"
     ]
    }
   ],
   "source": [
    "data_path = \"../data-unversioned/p1ch7/\"\n",
    "cifar10 = datasets.CIFAR10(\n",
    "    data_path,\n",
    "    train=True,\n",
    "    download=True,\n",
    "    transform=transforms.Compose(\n",
    "        [\n",
    "            transforms.ToTensor(),\n",
    "            transforms.Normalize((0.4915, 0.4823, 0.4468), (0.2470, 0.2435, 0.2616)),\n",
    "        ]\n",
    "    ),\n",
    ")"
   ]
  },
  {
   "cell_type": "code",
   "execution_count": 4,
   "id": "ac2fec80",
   "metadata": {},
   "outputs": [
    {
     "name": "stdout",
     "output_type": "stream",
     "text": [
      "Files already downloaded and verified\n"
     ]
    }
   ],
   "source": [
    "cifar10_val = datasets.CIFAR10(\n",
    "    data_path,\n",
    "    train=False,\n",
    "    download=True,\n",
    "    transform=transforms.Compose(\n",
    "        [\n",
    "            transforms.ToTensor(),\n",
    "            transforms.Normalize((0.4915, 0.4823, 0.4468), (0.2470, 0.2435, 0.2616)),\n",
    "        ]\n",
    "    ),\n",
    ")"
   ]
  },
  {
   "cell_type": "code",
   "execution_count": 5,
   "id": "35b1a0de",
   "metadata": {},
   "outputs": [],
   "source": [
    "label_map = {0: 0, 2: 1}\n",
    "class_names = [\"airplane\", \"bird\"]\n",
    "cifar2 = [(img, label_map[label]) for img, label in cifar10 if label in [0, 2]]\n",
    "cifar2_val = [(img, label_map[label]) for img, label in cifar10_val if label in [0, 2]]"
   ]
  },
  {
   "cell_type": "code",
   "execution_count": 6,
   "id": "374962dc",
   "metadata": {},
   "outputs": [
    {
     "name": "stdout",
     "output_type": "stream",
     "text": [
      "Training on device cuda.\n"
     ]
    }
   ],
   "source": [
    "device = torch.device(\"cuda\") if torch.cuda.is_available() else torch.device(\"cpu\")\n",
    "print(f\"Training on device {device}.\")"
   ]
  },
  {
   "cell_type": "markdown",
   "id": "0ea2ebbd",
   "metadata": {},
   "source": [
    "## Utilities"
   ]
  },
  {
   "cell_type": "code",
   "execution_count": 7,
   "id": "afa9f007",
   "metadata": {},
   "outputs": [],
   "source": [
    "def training_loop(n_epochs, optimizer, model, loss_fn, train_loader, device):\n",
    "    print(f\"Training on device {device}\")\n",
    "\n",
    "    model.to(device=device)\n",
    "    model.train()\n",
    "    for epoch in range(1, n_epochs + 1):\n",
    "        loss_train = 0.0\n",
    "        for imgs, labels in train_loader:\n",
    "\n",
    "            # Move the batch tensors to the right device\n",
    "            imgs = imgs.to(device=device)\n",
    "            labels = labels.to(device=device)\n",
    "            \n",
    "            outputs = model(imgs)\n",
    "            loss = loss_fn(outputs, labels)\n",
    "\n",
    "            optimizer.zero_grad()\n",
    "            loss.backward()\n",
    "            optimizer.step()\n",
    "\n",
    "            loss_train += loss.item()\n",
    "\n",
    "        if epoch == 1 or epoch % 10 == 0:\n",
    "            print(\n",
    "                \"{} Epoch {}, Training loss {}\".format(\n",
    "                    datetime.datetime.now(), epoch, loss_train / len(train_loader)\n",
    "                )\n",
    "            )\n",
    "    \n",
    "    # Set the model to evaluation mode after training\n",
    "    model.eval()"
   ]
  },
  {
   "cell_type": "code",
   "execution_count": 8,
   "id": "9a10ca2a",
   "metadata": {},
   "outputs": [],
   "source": [
    "def validate(model, train_loader, val_loader, device):\n",
    "    accdict = {}\n",
    "    model.to(device=device)\n",
    "\n",
    "    model.eval()  # Set the model to evaluation mode\n",
    "    for name, loader in [(\"train\", train_loader), (\"val\", val_loader)]:\n",
    "        correct = 0\n",
    "        total = 0\n",
    "\n",
    "        with torch.no_grad():\n",
    "            for imgs, labels in loader:\n",
    "                imgs = imgs.to(device=device)\n",
    "                labels = labels.to(device=device)\n",
    "\n",
    "                outputs = model(imgs)\n",
    "                _, predicted = torch.max(outputs, dim=1)\n",
    "                total += labels.shape[0]\n",
    "                correct += int((predicted == labels).sum())\n",
    "\n",
    "        print(\"Accuracy {}: {:.3f}\".format(name, correct / total))\n",
    "        accdict[name] = correct / total\n",
    "    return accdict"
   ]
  },
  {
   "cell_type": "code",
   "execution_count": 9,
   "id": "af93f488",
   "metadata": {},
   "outputs": [],
   "source": [
    "train_loader = torch.utils.data.DataLoader(cifar2, batch_size=512, shuffle=False)\n",
    "val_loader = torch.utils.data.DataLoader(cifar2_val, batch_size=512, shuffle=False)\n",
    "all_acc_dict = collections.OrderedDict()"
   ]
  },
  {
   "cell_type": "markdown",
   "id": "aa7312eb",
   "metadata": {},
   "source": [
    "## Testing models"
   ]
  },
  {
   "cell_type": "markdown",
   "id": "be14c6c8",
   "metadata": {},
   "source": [
    "### Baseline"
   ]
  },
  {
   "cell_type": "code",
   "execution_count": 10,
   "id": "9d5f3845",
   "metadata": {},
   "outputs": [],
   "source": [
    "class Net(nn.Module):\n",
    "    def __init__(self):\n",
    "        super().__init__()\n",
    "        self.conv1 = nn.Conv2d(3, 16, kernel_size=3, padding=1)\n",
    "        self.conv2 = nn.Conv2d(16, 8, kernel_size=3, padding=1)\n",
    "        self.fc1 = nn.Linear(8 * 8 * 8, 32)\n",
    "        self.fc2 = nn.Linear(32, 2)\n",
    "\n",
    "    def forward(self, x):\n",
    "        out = F.max_pool2d(torch.tanh(self.conv1(x)), 2)\n",
    "        out = F.max_pool2d(torch.tanh(self.conv2(out)), 2)\n",
    "        out = out.view(-1, 8 * 8 * 8)\n",
    "        out = torch.tanh(self.fc1(out))\n",
    "        out = self.fc2(out)\n",
    "        return out"
   ]
  },
  {
   "cell_type": "code",
   "execution_count": 11,
   "id": "3f394b58",
   "metadata": {},
   "outputs": [
    {
     "name": "stdout",
     "output_type": "stream",
     "text": [
      "Training on device cuda\n",
      "2025-04-06 16:33:03.753678 Epoch 1, Training loss 0.5445264682173729\n",
      "2025-04-06 16:33:04.976737 Epoch 10, Training loss 0.2932322844862938\n",
      "2025-04-06 16:33:06.314172 Epoch 20, Training loss 0.24288026466965676\n",
      "2025-04-06 16:33:07.662619 Epoch 30, Training loss 0.20191695317626\n",
      "2025-04-06 16:33:09.009380 Epoch 40, Training loss 0.1604928970336914\n",
      "2025-04-06 16:33:10.362018 Epoch 50, Training loss 0.12261801399290562\n",
      "2025-04-06 16:33:11.709902 Epoch 60, Training loss 0.09211544916033745\n",
      "2025-04-06 16:33:13.055799 Epoch 70, Training loss 0.06474869195371866\n",
      "2025-04-06 16:33:14.381828 Epoch 80, Training loss 0.04564506560564041\n",
      "2025-04-06 16:33:15.694446 Epoch 90, Training loss 0.03234805027022958\n",
      "2025-04-06 16:33:17.022597 Epoch 100, Training loss 0.024964533001184463\n",
      "2025-04-06 16:33:18.335985 Epoch 110, Training loss 0.024325127620249985\n",
      "2025-04-06 16:33:19.676022 Epoch 120, Training loss 0.06333071468397974\n",
      "2025-04-06 16:33:21.009363 Epoch 130, Training loss 0.012998837977647781\n",
      "2025-04-06 16:33:22.349139 Epoch 140, Training loss 0.012736928323283792\n",
      "2025-04-06 16:33:23.675692 Epoch 150, Training loss 0.01859868229366839\n",
      "2025-04-06 16:33:24.997818 Epoch 160, Training loss 0.018828486278653144\n",
      "2025-04-06 16:33:26.314859 Epoch 170, Training loss 0.004790240537840873\n",
      "2025-04-06 16:33:27.646886 Epoch 180, Training loss 0.0039061157149262726\n",
      "2025-04-06 16:33:28.979584 Epoch 190, Training loss 0.0033250261447392406\n",
      "2025-04-06 16:33:30.301777 Epoch 200, Training loss 0.002877972071291879\n",
      "Accuracy train: 1.000\n",
      "Accuracy val: 0.882\n"
     ]
    }
   ],
   "source": [
    "# We transfer the model (all its parameters) to the device.\n",
    "model = Net().to(device=device)\n",
    "optimizer = optim.Adam(model.parameters())\n",
    "loss_fn = nn.CrossEntropyLoss()\n",
    "\n",
    "training_loop(\n",
    "    n_epochs=200,\n",
    "    optimizer=optimizer,\n",
    "    model=model,\n",
    "    loss_fn=loss_fn,\n",
    "    train_loader=train_loader,\n",
    "    device=device,\n",
    ")\n",
    "\n",
    "all_acc_dict[\"baseline\"] = validate(model, train_loader, val_loader, device)"
   ]
  },
  {
   "cell_type": "markdown",
   "id": "8d023541",
   "metadata": {},
   "source": [
    "### Augmenting width or channels in convolutions"
   ]
  },
  {
   "cell_type": "code",
   "execution_count": 12,
   "id": "a594fd1e",
   "metadata": {},
   "outputs": [],
   "source": [
    "class NetWidth(nn.Module):\n",
    "    def __init__(self, n_chans1=32):\n",
    "        super().__init__()\n",
    "        self.n_chans1 = n_chans1\n",
    "        self.conv1 = nn.Conv2d(3, n_chans1, kernel_size=3, padding=1)\n",
    "        self.conv2 = nn.Conv2d(n_chans1, n_chans1 // 2, kernel_size=3, padding=1)\n",
    "        self.fc1 = nn.Linear(8 * 8 * n_chans1 // 2, 32)\n",
    "        self.fc2 = nn.Linear(32, 2)\n",
    "\n",
    "    def forward(self, x):\n",
    "        out = F.max_pool2d(torch.tanh(self.conv1(x)), 2)\n",
    "        out = F.max_pool2d(torch.tanh(self.conv2(out)), 2)\n",
    "        out = out.view(-1, 8 * 8 * self.n_chans1 // 2)\n",
    "        out = torch.tanh(self.fc1(out))\n",
    "        out = self.fc2(out)\n",
    "        return out"
   ]
  },
  {
   "cell_type": "code",
   "execution_count": 13,
   "id": "5383628b",
   "metadata": {},
   "outputs": [
    {
     "name": "stdout",
     "output_type": "stream",
     "text": [
      "Training on device cuda\n",
      "2025-04-06 16:33:30.659695 Epoch 1, Training loss 0.49784093499183657\n",
      "2025-04-06 16:33:31.911006 Epoch 10, Training loss 0.25804154574871063\n",
      "2025-04-06 16:33:33.267023 Epoch 20, Training loss 0.17249756008386613\n",
      "2025-04-06 16:33:34.642439 Epoch 30, Training loss 0.13751998357474804\n",
      "2025-04-06 16:33:36.012401 Epoch 40, Training loss 0.09356547687202692\n",
      "2025-04-06 16:33:37.370506 Epoch 50, Training loss 0.04638153910636902\n",
      "2025-04-06 16:33:38.763440 Epoch 60, Training loss 0.04661306496709585\n",
      "2025-04-06 16:33:40.132832 Epoch 70, Training loss 0.017889304272830486\n",
      "2025-04-06 16:33:41.525252 Epoch 80, Training loss 0.012269156123511493\n",
      "2025-04-06 16:33:42.895168 Epoch 90, Training loss 0.00944043875206262\n",
      "2025-04-06 16:33:44.289216 Epoch 100, Training loss 0.008450641995295882\n",
      "2025-04-06 16:33:45.679402 Epoch 110, Training loss 0.009795048646628857\n",
      "2025-04-06 16:33:47.046931 Epoch 120, Training loss 0.019458132935687898\n",
      "2025-04-06 16:33:48.423928 Epoch 130, Training loss 0.018685821117833255\n",
      "2025-04-06 16:33:49.796503 Epoch 140, Training loss 0.016775965876877307\n",
      "2025-04-06 16:33:51.175278 Epoch 150, Training loss 0.0018185431574238465\n",
      "2025-04-06 16:33:52.545646 Epoch 160, Training loss 0.0014335541491163895\n",
      "2025-04-06 16:33:53.933201 Epoch 170, Training loss 0.0011938991287024693\n",
      "2025-04-06 16:33:55.317479 Epoch 180, Training loss 0.0010212389417574741\n",
      "2025-04-06 16:33:56.700186 Epoch 190, Training loss 0.0008865037918440067\n",
      "2025-04-06 16:33:58.060445 Epoch 200, Training loss 0.0007767414455884137\n",
      "Accuracy train: 1.000\n",
      "Accuracy val: 0.893\n"
     ]
    }
   ],
   "source": [
    "model = NetWidth(n_chans1=32).to(device=device)\n",
    "optimizer = optim.Adam(model.parameters())\n",
    "loss_fn = nn.CrossEntropyLoss()\n",
    "\n",
    "training_loop(\n",
    "    n_epochs=200,\n",
    "    optimizer=optimizer,\n",
    "    model=model,\n",
    "    loss_fn=loss_fn,\n",
    "    train_loader=train_loader,\n",
    "    device=device,\n",
    ")\n",
    "\n",
    "all_acc_dict[\"width\"] = validate(model, train_loader, val_loader, device)"
   ]
  },
  {
   "cell_type": "code",
   "execution_count": 14,
   "id": "085041d4",
   "metadata": {},
   "outputs": [
    {
     "data": {
      "text/plain": [
       "38386"
      ]
     },
     "execution_count": 14,
     "metadata": {},
     "output_type": "execute_result"
    }
   ],
   "source": [
    "sum(p.numel() for p in model.parameters())"
   ]
  },
  {
   "cell_type": "markdown",
   "id": "a61d43c0",
   "metadata": {},
   "source": [
    "### $L_2$-regularizarion"
   ]
  },
  {
   "cell_type": "code",
   "execution_count": 15,
   "id": "18c032d0",
   "metadata": {},
   "outputs": [],
   "source": [
    "def training_loop_l2reg(n_epochs, optimizer, model, loss_fn, train_loader, device):\n",
    "    print(f\"Training on device {device}\")\n",
    "    for epoch in range(1, n_epochs + 1):\n",
    "        loss_train = 0.0\n",
    "        for imgs, labels in train_loader:\n",
    "            imgs = imgs.to(device=device)\n",
    "            labels = labels.to(device=device)\n",
    "            outputs = model(imgs)\n",
    "            loss = loss_fn(outputs, labels)\n",
    "\n",
    "            l2_lambda = 0.001\n",
    "            l2_norm = sum(p.pow(2.0).sum() for p in model.parameters())  # <1>\n",
    "            loss = loss + l2_lambda * l2_norm\n",
    "\n",
    "            optimizer.zero_grad()\n",
    "            loss.backward()\n",
    "            optimizer.step()\n",
    "\n",
    "            loss_train += loss.item()\n",
    "        if epoch == 1 or epoch % 10 == 0:\n",
    "            print(\n",
    "                \"{} Epoch {}, Training loss {}\".format(\n",
    "                    datetime.datetime.now(), epoch, loss_train / len(train_loader)\n",
    "                )\n",
    "            )"
   ]
  },
  {
   "cell_type": "code",
   "execution_count": 16,
   "id": "e4392a93",
   "metadata": {},
   "outputs": [
    {
     "name": "stdout",
     "output_type": "stream",
     "text": [
      "Training on device cuda\n",
      "2025-04-06 16:33:58.464968 Epoch 1, Training loss 0.5563655212521553\n",
      "2025-04-06 16:34:00.297464 Epoch 10, Training loss 0.31825807839632037\n",
      "2025-04-06 16:34:02.345589 Epoch 20, Training loss 0.27435202747583387\n",
      "2025-04-06 16:34:04.368082 Epoch 30, Training loss 0.24997400119900703\n",
      "2025-04-06 16:34:06.404768 Epoch 40, Training loss 0.23302816301584245\n",
      "2025-04-06 16:34:08.437837 Epoch 50, Training loss 0.21289752647280694\n",
      "2025-04-06 16:34:10.456416 Epoch 60, Training loss 0.1971377693116665\n",
      "2025-04-06 16:34:12.370602 Epoch 70, Training loss 0.18341801464557647\n",
      "2025-04-06 16:34:14.062854 Epoch 80, Training loss 0.1759781703352928\n",
      "2025-04-06 16:34:15.709603 Epoch 90, Training loss 0.15758247077465057\n",
      "2025-04-06 16:34:17.336278 Epoch 100, Training loss 0.14535901248455046\n",
      "2025-04-06 16:34:18.944626 Epoch 110, Training loss 0.13738478906452656\n",
      "2025-04-06 16:34:20.557921 Epoch 120, Training loss 0.13365726955235005\n",
      "2025-04-06 16:34:22.282023 Epoch 130, Training loss 0.12532149478793145\n",
      "2025-04-06 16:34:23.934902 Epoch 140, Training loss 0.12180034033954143\n",
      "2025-04-06 16:34:25.616059 Epoch 150, Training loss 0.12265758663415909\n",
      "2025-04-06 16:34:27.532392 Epoch 160, Training loss 0.1266239292919636\n",
      "2025-04-06 16:34:29.525932 Epoch 170, Training loss 0.11914522796869279\n",
      "2025-04-06 16:34:31.318786 Epoch 180, Training loss 0.11153224110603333\n",
      "2025-04-06 16:34:32.939281 Epoch 190, Training loss 0.11054967008531094\n",
      "2025-04-06 16:34:34.543577 Epoch 200, Training loss 0.11303688697516918\n",
      "Accuracy train: 0.997\n",
      "Accuracy val: 0.888\n"
     ]
    }
   ],
   "source": [
    "model = Net().to(device=device)\n",
    "optimizer = optim.Adam(model.parameters())\n",
    "loss_fn = nn.CrossEntropyLoss()\n",
    "\n",
    "training_loop_l2reg(\n",
    "    n_epochs=200,\n",
    "    optimizer=optimizer,\n",
    "    model=model,\n",
    "    loss_fn=loss_fn,\n",
    "    train_loader=train_loader,\n",
    "    device=device,\n",
    ")\n",
    "all_acc_dict[\"l2 reg\"] = validate(model, train_loader, val_loader, device)"
   ]
  },
  {
   "cell_type": "markdown",
   "id": "8d26c602",
   "metadata": {},
   "source": [
    "### Dropout"
   ]
  },
  {
   "cell_type": "code",
   "execution_count": 17,
   "id": "de29f794",
   "metadata": {},
   "outputs": [],
   "source": [
    "class NetDropout(nn.Module):\n",
    "    def __init__(self, n_chans1=32):\n",
    "        super().__init__()\n",
    "        self.n_chans1 = n_chans1\n",
    "        self.conv1 = nn.Conv2d(3, n_chans1, kernel_size=3, padding=1)\n",
    "        self.conv1_dropout = nn.Dropout2d(p=0.4)\n",
    "        self.conv2 = nn.Conv2d(n_chans1, n_chans1 // 2, kernel_size=3, padding=1)\n",
    "        self.conv2_dropout = nn.Dropout2d(p=0.4)\n",
    "        self.fc1 = nn.Linear(8 * 8 * n_chans1 // 2, 32)\n",
    "        self.fc2 = nn.Linear(32, 2)\n",
    "\n",
    "    def forward(self, x):\n",
    "        out = F.max_pool2d(torch.tanh(self.conv1(x)), 2)\n",
    "        out = self.conv1_dropout(out)\n",
    "        out = F.max_pool2d(torch.tanh(self.conv2(out)), 2)\n",
    "        out = self.conv2_dropout(out)\n",
    "        out = out.view(-1, 8 * 8 * self.n_chans1 // 2)\n",
    "        out = torch.tanh(self.fc1(out))\n",
    "        out = self.fc2(out)\n",
    "        return out"
   ]
  },
  {
   "cell_type": "code",
   "execution_count": 18,
   "id": "33e161cf",
   "metadata": {},
   "outputs": [
    {
     "name": "stdout",
     "output_type": "stream",
     "text": [
      "Training on device cuda\n",
      "2025-04-06 16:34:34.817703 Epoch 1, Training loss 0.5393829390406608\n",
      "2025-04-06 16:34:36.072997 Epoch 10, Training loss 0.3325729489326477\n",
      "2025-04-06 16:34:37.474699 Epoch 20, Training loss 0.2846547827124596\n",
      "2025-04-06 16:34:38.892279 Epoch 30, Training loss 0.2452015683054924\n",
      "2025-04-06 16:34:40.296131 Epoch 40, Training loss 0.21412258595228195\n",
      "2025-04-06 16:34:41.704258 Epoch 50, Training loss 0.1898181825876236\n",
      "2025-04-06 16:34:43.117917 Epoch 60, Training loss 0.17504779621958733\n",
      "2025-04-06 16:34:44.510192 Epoch 70, Training loss 0.15488925017416477\n",
      "2025-04-06 16:34:45.901939 Epoch 80, Training loss 0.14092841260135175\n",
      "2025-04-06 16:34:47.317391 Epoch 90, Training loss 0.1346064429730177\n",
      "2025-04-06 16:34:48.733856 Epoch 100, Training loss 0.1265573874115944\n",
      "2025-04-06 16:34:50.146391 Epoch 110, Training loss 0.11240634545683861\n",
      "2025-04-06 16:34:51.600606 Epoch 120, Training loss 0.1065054889768362\n",
      "2025-04-06 16:34:53.073259 Epoch 130, Training loss 0.10195897445082665\n",
      "2025-04-06 16:34:54.580471 Epoch 140, Training loss 0.09572203531861305\n",
      "2025-04-06 16:34:56.246449 Epoch 150, Training loss 0.09531604684889317\n",
      "2025-04-06 16:34:57.940852 Epoch 160, Training loss 0.0864214189350605\n",
      "2025-04-06 16:34:59.638480 Epoch 170, Training loss 0.08353995103389025\n",
      "2025-04-06 16:35:01.145250 Epoch 180, Training loss 0.08405730314552784\n",
      "2025-04-06 16:35:02.580186 Epoch 190, Training loss 0.07919991798698903\n",
      "2025-04-06 16:35:03.953652 Epoch 200, Training loss 0.08183088395744562\n",
      "Accuracy train: 0.998\n",
      "Accuracy val: 0.907\n"
     ]
    }
   ],
   "source": [
    "model = NetDropout(n_chans1=32).to(device=device)\n",
    "optimizer = optim.Adam(model.parameters())\n",
    "loss_fn = nn.CrossEntropyLoss()\n",
    "\n",
    "training_loop(\n",
    "    n_epochs=200,\n",
    "    optimizer=optimizer,\n",
    "    model=model,\n",
    "    loss_fn=loss_fn,\n",
    "    train_loader=train_loader,\n",
    "    device=device,\n",
    ")\n",
    "all_acc_dict[\"dropout\"] = validate(model, train_loader, val_loader, device)"
   ]
  },
  {
   "cell_type": "markdown",
   "id": "92d9a003",
   "metadata": {},
   "source": [
    "### Batch normalization"
   ]
  },
  {
   "cell_type": "code",
   "execution_count": 19,
   "id": "c4e234fc",
   "metadata": {},
   "outputs": [],
   "source": [
    "class NetBatchNorm(nn.Module):\n",
    "    def __init__(self, n_chans1=32):\n",
    "        super().__init__()\n",
    "        self.n_chans1 = n_chans1\n",
    "        self.conv1 = nn.Conv2d(3, n_chans1, kernel_size=3, padding=1)\n",
    "        self.conv1_batchnorm = nn.BatchNorm2d(num_features=n_chans1)\n",
    "        self.conv2 = nn.Conv2d(n_chans1, n_chans1 // 2, kernel_size=3, padding=1)\n",
    "        self.conv2_batchnorm = nn.BatchNorm2d(num_features=n_chans1 // 2)\n",
    "        self.fc1 = nn.Linear(8 * 8 * n_chans1 // 2, 32)\n",
    "        self.fc2 = nn.Linear(32, 2)\n",
    "\n",
    "    def forward(self, x):\n",
    "        out = self.conv1_batchnorm(self.conv1(x))\n",
    "        out = F.max_pool2d(torch.tanh(out), 2)\n",
    "        out = self.conv2_batchnorm(self.conv2(out))\n",
    "        out = F.max_pool2d(torch.tanh(out), 2)\n",
    "        out = out.view(-1, 8 * 8 * self.n_chans1 // 2)\n",
    "        out = torch.tanh(self.fc1(out))\n",
    "        out = self.fc2(out)\n",
    "        return out"
   ]
  },
  {
   "cell_type": "code",
   "execution_count": 20,
   "id": "14d9237a",
   "metadata": {},
   "outputs": [
    {
     "name": "stdout",
     "output_type": "stream",
     "text": [
      "Training on device cuda\n",
      "2025-04-06 16:35:04.265780 Epoch 1, Training loss 0.483073890209198\n",
      "2025-04-06 16:35:05.578668 Epoch 10, Training loss 0.22298235148191453\n",
      "2025-04-06 16:35:07.048470 Epoch 20, Training loss 0.12281368337571621\n",
      "2025-04-06 16:35:08.522075 Epoch 30, Training loss 0.12897639609873296\n",
      "2025-04-06 16:35:10.005519 Epoch 40, Training loss 0.06385765159502625\n",
      "2025-04-06 16:35:11.483245 Epoch 50, Training loss 0.02908053258433938\n",
      "2025-04-06 16:35:12.961069 Epoch 60, Training loss 0.018124451185576616\n",
      "2025-04-06 16:35:14.447238 Epoch 70, Training loss 0.01628128394950181\n",
      "2025-04-06 16:35:15.957834 Epoch 80, Training loss 0.013021908421069383\n",
      "2025-04-06 16:35:17.444008 Epoch 90, Training loss 0.006715220934711397\n",
      "2025-04-06 16:35:18.901925 Epoch 100, Training loss 0.006692112248856574\n",
      "2025-04-06 16:35:20.379985 Epoch 110, Training loss 0.005470878520281985\n",
      "2025-04-06 16:35:21.886267 Epoch 120, Training loss 0.00296445619314909\n",
      "2025-04-06 16:35:23.385719 Epoch 130, Training loss 0.0022536959499120713\n",
      "2025-04-06 16:35:24.890302 Epoch 140, Training loss 0.0008134952891850844\n",
      "2025-04-06 16:35:26.380422 Epoch 150, Training loss 0.000652586818614509\n",
      "2025-04-06 16:35:27.902063 Epoch 160, Training loss 0.0005465984009788372\n",
      "2025-04-06 16:35:29.398470 Epoch 170, Training loss 0.00046630264550913126\n",
      "2025-04-06 16:35:30.896650 Epoch 180, Training loss 0.0004017786020995118\n",
      "2025-04-06 16:35:32.401617 Epoch 190, Training loss 0.0003484717337414622\n",
      "2025-04-06 16:35:33.891517 Epoch 200, Training loss 0.0003036060559679754\n",
      "Accuracy train: 1.000\n",
      "Accuracy val: 0.904\n"
     ]
    }
   ],
   "source": [
    "model = NetBatchNorm(n_chans1=32).to(device=device)\n",
    "optimizer = optim.Adam(model.parameters())\n",
    "loss_fn = nn.CrossEntropyLoss()\n",
    "\n",
    "training_loop(\n",
    "    n_epochs=200,\n",
    "    optimizer=optimizer,\n",
    "    model=model,\n",
    "    loss_fn=loss_fn,\n",
    "    train_loader=train_loader,\n",
    "    device=device,\n",
    ")\n",
    "all_acc_dict[\"batch_norm\"] = validate(model, train_loader, val_loader, device)"
   ]
  },
  {
   "cell_type": "markdown",
   "id": "3ce573c8",
   "metadata": {},
   "source": [
    "### Augmenting depth"
   ]
  },
  {
   "cell_type": "code",
   "execution_count": 21,
   "id": "6dd2629f",
   "metadata": {},
   "outputs": [],
   "source": [
    "class NetDepth(nn.Module):\n",
    "    def __init__(self, n_chans1=32):\n",
    "        super().__init__()\n",
    "        self.n_chans1 = n_chans1\n",
    "        self.conv1 = nn.Conv2d(3, n_chans1, kernel_size=3, padding=1)\n",
    "        self.conv2 = nn.Conv2d(n_chans1, n_chans1 // 2, kernel_size=3, padding=1)\n",
    "        self.conv3 = nn.Conv2d(n_chans1 // 2, n_chans1 // 2, kernel_size=3, padding=1)\n",
    "        self.fc1 = nn.Linear(4 * 4 * n_chans1 // 2, 32)\n",
    "        self.fc2 = nn.Linear(32, 2)\n",
    "\n",
    "    def forward(self, x):\n",
    "        out = F.max_pool2d(torch.relu(self.conv1(x)), 2)\n",
    "        out = F.max_pool2d(torch.relu(self.conv2(out)), 2)\n",
    "        out = F.max_pool2d(torch.relu(self.conv3(out)), 2)\n",
    "        out = out.view(-1, 4 * 4 * self.n_chans1 // 2)\n",
    "        out = torch.relu(self.fc1(out))\n",
    "        out = self.fc2(out)\n",
    "        return out"
   ]
  },
  {
   "cell_type": "code",
   "execution_count": 22,
   "id": "25858d43",
   "metadata": {},
   "outputs": [
    {
     "name": "stdout",
     "output_type": "stream",
     "text": [
      "Training on device cuda\n",
      "2025-04-06 16:35:34.230008 Epoch 1, Training loss 0.5992082193493843\n",
      "2025-04-06 16:35:35.496763 Epoch 10, Training loss 0.29471199214458466\n",
      "2025-04-06 16:35:36.899722 Epoch 20, Training loss 0.2499143213033676\n",
      "2025-04-06 16:35:38.300729 Epoch 30, Training loss 0.2158402755856514\n",
      "2025-04-06 16:35:39.691659 Epoch 40, Training loss 0.18460983857512475\n",
      "2025-04-06 16:35:41.125625 Epoch 50, Training loss 0.15633469708263875\n",
      "2025-04-06 16:35:42.527576 Epoch 60, Training loss 0.13366682641208172\n",
      "2025-04-06 16:35:43.917735 Epoch 70, Training loss 0.12037970535457135\n",
      "2025-04-06 16:35:45.359031 Epoch 80, Training loss 0.10182641837745905\n",
      "2025-04-06 16:35:46.761253 Epoch 90, Training loss 0.08202145993709564\n",
      "2025-04-06 16:35:48.177453 Epoch 100, Training loss 0.07864585909992457\n",
      "2025-04-06 16:35:49.596086 Epoch 110, Training loss 0.06221487745642662\n",
      "2025-04-06 16:35:50.991188 Epoch 120, Training loss 0.05575428865849972\n",
      "2025-04-06 16:35:52.410616 Epoch 130, Training loss 0.0597482806071639\n",
      "2025-04-06 16:35:53.812699 Epoch 140, Training loss 0.06221659500151873\n",
      "2025-04-06 16:35:55.204814 Epoch 150, Training loss 0.043242739886045455\n",
      "2025-04-06 16:35:56.604931 Epoch 160, Training loss 0.10596065036952496\n",
      "2025-04-06 16:35:58.033193 Epoch 170, Training loss 0.030917680589482188\n",
      "2025-04-06 16:35:59.449275 Epoch 180, Training loss 0.01775663287844509\n",
      "2025-04-06 16:36:00.870537 Epoch 190, Training loss 0.011369576444849372\n",
      "2025-04-06 16:36:02.282463 Epoch 200, Training loss 0.008366663719061761\n",
      "Accuracy train: 0.999\n",
      "Accuracy val: 0.893\n"
     ]
    }
   ],
   "source": [
    "model = NetDepth(n_chans1=32).to(device=device)\n",
    "optimizer = optim.Adam(model.parameters())\n",
    "loss_fn = nn.CrossEntropyLoss()\n",
    "\n",
    "training_loop(\n",
    "    n_epochs=200,\n",
    "    optimizer=optimizer,\n",
    "    model=model,\n",
    "    loss_fn=loss_fn,\n",
    "    train_loader=train_loader,\n",
    "    device=device,\n",
    ")\n",
    "all_acc_dict[\"depth\"] = validate(model, train_loader, val_loader, device)"
   ]
  },
  {
   "cell_type": "markdown",
   "id": "2847bbab",
   "metadata": {},
   "source": [
    "### Residual connections (ResNets) or skip connections"
   ]
  },
  {
   "cell_type": "code",
   "execution_count": 23,
   "id": "b723ce33",
   "metadata": {},
   "outputs": [],
   "source": [
    "class NetRes(nn.Module):\n",
    "    def __init__(self, n_chans1=32):\n",
    "        super().__init__()\n",
    "        self.n_chans1 = n_chans1\n",
    "        self.conv1 = nn.Conv2d(3, n_chans1, kernel_size=3, padding=1)\n",
    "        self.conv2 = nn.Conv2d(n_chans1, n_chans1 // 2, kernel_size=3, padding=1)\n",
    "        self.conv3 = nn.Conv2d(n_chans1 // 2, n_chans1 // 2, kernel_size=3, padding=1)\n",
    "        self.fc1 = nn.Linear(4 * 4 * n_chans1 // 2, 32)\n",
    "        self.fc2 = nn.Linear(32, 2)\n",
    "\n",
    "    def forward(self, x):\n",
    "        out = F.max_pool2d(torch.relu(self.conv1(x)), 2)\n",
    "        out = F.max_pool2d(torch.relu(self.conv2(out)), 2)\n",
    "        out1 = out\n",
    "        out = F.max_pool2d(torch.relu(self.conv3(out)) + out1, 2)\n",
    "        out = out.view(-1, 4 * 4 * self.n_chans1 // 2)\n",
    "        out = torch.relu(self.fc1(out))\n",
    "        out = self.fc2(out)\n",
    "        return out"
   ]
  },
  {
   "cell_type": "code",
   "execution_count": 24,
   "id": "b20e4acb",
   "metadata": {},
   "outputs": [
    {
     "name": "stdout",
     "output_type": "stream",
     "text": [
      "Training on device cuda\n",
      "2025-04-06 16:36:02.608255 Epoch 1, Training loss 0.5641944795846939\n",
      "2025-04-06 16:36:03.839712 Epoch 10, Training loss 0.292143651843071\n",
      "2025-04-06 16:36:05.254299 Epoch 20, Training loss 0.23761499673128128\n",
      "2025-04-06 16:36:06.632768 Epoch 30, Training loss 0.19664014801383017\n",
      "2025-04-06 16:36:08.011952 Epoch 40, Training loss 0.1630691472440958\n",
      "2025-04-06 16:36:09.403502 Epoch 50, Training loss 0.1334564544260502\n",
      "2025-04-06 16:36:10.772782 Epoch 60, Training loss 0.10812572203576565\n",
      "2025-04-06 16:36:12.139397 Epoch 70, Training loss 0.09584462437778711\n",
      "2025-04-06 16:36:13.510690 Epoch 80, Training loss 0.06986949304118753\n",
      "2025-04-06 16:36:14.879353 Epoch 90, Training loss 0.05628730850294232\n",
      "2025-04-06 16:36:16.265181 Epoch 100, Training loss 0.04111219947226345\n",
      "2025-04-06 16:36:17.649867 Epoch 110, Training loss 0.13892785906791688\n",
      "2025-04-06 16:36:19.021137 Epoch 120, Training loss 0.04500463102012873\n",
      "2025-04-06 16:36:20.410492 Epoch 130, Training loss 0.04915696941316128\n",
      "2025-04-06 16:36:21.802963 Epoch 140, Training loss 0.03339089173823595\n",
      "2025-04-06 16:36:23.171160 Epoch 150, Training loss 0.039831219054758546\n",
      "2025-04-06 16:36:24.562102 Epoch 160, Training loss 0.1091479167342186\n",
      "2025-04-06 16:36:25.938854 Epoch 170, Training loss 0.019814652716740967\n",
      "2025-04-06 16:36:27.330593 Epoch 180, Training loss 0.01004162080353126\n",
      "2025-04-06 16:36:28.699824 Epoch 190, Training loss 0.0064611154375597835\n",
      "2025-04-06 16:36:30.086206 Epoch 200, Training loss 0.004624923807568848\n",
      "Accuracy train: 1.000\n",
      "Accuracy val: 0.907\n"
     ]
    }
   ],
   "source": [
    "model = NetRes(n_chans1=32).to(device=device)\n",
    "optimizer = optim.Adam(model.parameters())\n",
    "loss_fn = nn.CrossEntropyLoss()\n",
    "\n",
    "training_loop(\n",
    "    n_epochs=200,\n",
    "    optimizer=optimizer,\n",
    "    model=model,\n",
    "    loss_fn=loss_fn,\n",
    "    train_loader=train_loader,\n",
    "    device=device,\n",
    ")\n",
    "all_acc_dict[\"res\"] = validate(model, train_loader, val_loader, device)"
   ]
  },
  {
   "cell_type": "code",
   "execution_count": 25,
   "id": "b99e923d",
   "metadata": {},
   "outputs": [],
   "source": [
    "class ResBlock(nn.Module):\n",
    "    def __init__(self, n_chans):\n",
    "        super(ResBlock, self).__init__()\n",
    "        self.conv = nn.Conv2d(\n",
    "            n_chans, n_chans, kernel_size=3, padding=1, bias=False\n",
    "        )  # <1>\n",
    "        self.batch_norm = nn.BatchNorm2d(num_features=n_chans)\n",
    "        torch.nn.init.kaiming_normal_(self.conv.weight, nonlinearity=\"relu\")  # <2>\n",
    "        torch.nn.init.constant_(self.batch_norm.weight, 0.5)\n",
    "        torch.nn.init.zeros_(self.batch_norm.bias)\n",
    "\n",
    "    def forward(self, x):\n",
    "        out = self.conv(x)\n",
    "        out = self.batch_norm(out)\n",
    "        out = torch.relu(out)\n",
    "        return out + x"
   ]
  },
  {
   "cell_type": "code",
   "execution_count": 26,
   "id": "d02e5d05",
   "metadata": {},
   "outputs": [],
   "source": [
    "class NetResDeep(nn.Module):\n",
    "    def __init__(self, n_chans1=32, n_blocks=10):\n",
    "        super().__init__()\n",
    "        self.n_chans1 = n_chans1\n",
    "        self.conv1 = nn.Conv2d(3, n_chans1, kernel_size=3, padding=1)\n",
    "        self.resblocks = nn.Sequential(*(n_blocks * [ResBlock(n_chans=n_chans1)]))\n",
    "        self.fc1 = nn.Linear(8 * 8 * n_chans1, 32)\n",
    "        self.fc2 = nn.Linear(32, 2)\n",
    "\n",
    "    def forward(self, x):\n",
    "        out = F.max_pool2d(torch.relu(self.conv1(x)), 2)\n",
    "        out = self.resblocks(out)\n",
    "        out = F.max_pool2d(out, 2)\n",
    "        out = out.view(-1, 8 * 8 * self.n_chans1)\n",
    "        out = torch.relu(self.fc1(out))\n",
    "        out = self.fc2(out)\n",
    "        return out"
   ]
  },
  {
   "cell_type": "code",
   "execution_count": 28,
   "id": "90df475f",
   "metadata": {},
   "outputs": [
    {
     "name": "stdout",
     "output_type": "stream",
     "text": [
      "Training on device cuda\n",
      "2025-04-06 16:37:15.216886 Epoch 1, Training loss 4.4960456669330595\n",
      "2025-04-06 16:37:41.145983 Epoch 10, Training loss 0.6942802935838699\n",
      "2025-04-06 16:38:10.495287 Epoch 20, Training loss 0.6931975156068801\n",
      "2025-04-06 16:38:39.787621 Epoch 30, Training loss 0.6931507050991058\n",
      "2025-04-06 16:39:08.915041 Epoch 40, Training loss 0.6931499421596528\n",
      "2025-04-06 16:39:37.941529 Epoch 50, Training loss 0.6931502342224121\n",
      "2025-04-06 16:40:06.899953 Epoch 60, Training loss 0.6931506365537643\n",
      "2025-04-06 16:40:35.802763 Epoch 70, Training loss 0.6931509733200073\n",
      "2025-04-06 16:41:04.673668 Epoch 80, Training loss 0.69315125644207\n",
      "2025-04-06 16:41:33.561543 Epoch 90, Training loss 0.693151542544365\n",
      "2025-04-06 16:42:02.405650 Epoch 100, Training loss 0.6931517839431762\n",
      "2025-04-06 16:42:31.262458 Epoch 110, Training loss 0.6931519687175751\n",
      "2025-04-06 16:43:00.153149 Epoch 120, Training loss 0.6931522279977799\n",
      "2025-04-06 16:43:29.081662 Epoch 130, Training loss 0.693152391910553\n",
      "2025-04-06 16:43:57.978887 Epoch 140, Training loss 0.6931525260210037\n",
      "2025-04-06 16:44:26.858030 Epoch 150, Training loss 0.6931526333093643\n",
      "2025-04-06 16:44:55.730498 Epoch 160, Training loss 0.6931527853012085\n",
      "2025-04-06 16:45:24.603674 Epoch 170, Training loss 0.6931528747081757\n",
      "2025-04-06 16:45:53.504098 Epoch 180, Training loss 0.693152928352356\n",
      "2025-04-06 16:46:22.370924 Epoch 190, Training loss 0.6931530147790909\n",
      "2025-04-06 16:46:51.253071 Epoch 200, Training loss 0.6931530833244324\n",
      "Accuracy train: 0.500\n",
      "Accuracy val: 0.500\n"
     ]
    }
   ],
   "source": [
    "model = NetResDeep(n_chans1=32, n_blocks=100).to(device=device)\n",
    "optimizer = optim.Adam(model.parameters())\n",
    "loss_fn = nn.CrossEntropyLoss()\n",
    "\n",
    "training_loop(\n",
    "    n_epochs=200,\n",
    "    optimizer=optimizer,\n",
    "    model=model,\n",
    "    loss_fn=loss_fn,\n",
    "    train_loader=train_loader,\n",
    "    device=device,\n",
    ")\n",
    "all_acc_dict[\"res deep\"] = validate(model, train_loader, val_loader, device)"
   ]
  },
  {
   "cell_type": "code",
   "execution_count": 34,
   "id": "ad6eaebb",
   "metadata": {},
   "outputs": [
    {
     "data": {
      "image/png": "[encoded data removed]",
      "text/plain": [
       "<Figure size 640x480 with 1 Axes>"
      ]
     },
     "metadata": {},
     "output_type": "display_data"
    }
   ],
   "source": [
    "trn_acc = [v[\"train\"] for k, v in all_acc_dict.items()]\n",
    "val_acc = [v[\"val\"] for k, v in all_acc_dict.items()]\n",
    "\n",
    "width = 0.3\n",
    "plt.bar(np.arange(len(trn_acc)), trn_acc, width=width, label=\"train\")\n",
    "plt.bar(np.arange(len(val_acc)) + width, val_acc, width=width, label=\"val\")\n",
    "plt.xticks(np.arange(len(val_acc)) + width / 2, list(all_acc_dict.keys()), rotation=60)\n",
    "plt.ylabel(\"accuracy\")\n",
    "plt.legend(loc=\"lower right\")\n",
    "plt.ylim(0.4, 1)\n",
    "plt.savefig(\"accuracy_comparison.png\", bbox_inches=\"tight\")\n",
    "plt.show()"
   ]
  },
  {
   "cell_type": "code",
   "execution_count": null,
   "id": "533f796f",
   "metadata": {},
   "outputs": [],
   "source": []
  }
 ],
 "metadata": {
  "kernelspec": {
   "display_name": ".venv",
   "language": "python",
   "name": "python3"
  },
  "language_info": {
   "codemirror_mode": {
    "name": "ipython",
    "version": 3
   },
   "file_extension": ".py",
   "mimetype": "text/x-python",
   "name": "python",
   "nbconvert_exporter": "python",
   "pygments_lexer": "ipython3",
   "version": "3.10.12"
  }
 },
 "nbformat": 4,
 "nbformat_minor": 5
}
